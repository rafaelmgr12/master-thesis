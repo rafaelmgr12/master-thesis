{
 "cells": [
  {
   "cell_type": "code",
   "execution_count": 1,
   "metadata": {},
   "outputs": [],
   "source": [
    "try:\n",
    "    import google.colab\n",
    "    IN_COLAB = True\n",
    "except:\n",
    "    IN_COLAB = False\n",
    "if IN_COLAB:\n",
    "    print(\"Baixando Funções que serão usadas nesse notebook\")\n",
    "    ! shred -u astroFunctions.py\n",
    "    ! wget https://raw.githubusercontent.com/rafaelmgr12/PHOTOzxcorr/main/functions/ml_algorithims.py -O ml_algorithims.py\n",
    "    ! pip install healpy\n",
    "    from google.colab import drive\n",
    "    drive.mount('/content/drive')\n",
    "else:\n",
    "    import sys,os\n",
    "    home = os.getenv(\"HOME\")\n",
    "    sys.path.append(home+\"/Projetos/master-thesis/functions/\") # user here the path where we download the folder PHTOzxcorr"
   ]
  },
  {
   "cell_type": "code",
   "execution_count": 2,
   "metadata": {},
   "outputs": [],
   "source": [
    "import random\n",
    "import pandas as pd\n",
    "import numpy as np\n",
    "import matplotlib.pyplot as plt\n",
    "from astropy.table import Table\n",
    "import ml_algorithims as ml\n",
    "from sklearn.metrics import mean_squared_error,mean_absolute_error\n",
    "from sklearn.model_selection import train_test_split,ShuffleSplit\n",
    "# Neural Network Libs\n",
    "\n",
    "import keras\n",
    "import tensorflow as tf\n",
    "from tensorflow.keras.models import Sequential\n",
    "from tensorflow.keras.layers import Dense, Flatten, Dropout, Conv2D, MaxPooling2D, BatchNormalization, Activation\n",
    "from tensorflow.keras.callbacks import ModelCheckpoint, EarlyStopping\n",
    "from tensorflow.keras.optimizers import Adam\n",
    "from keras import backend as K\n",
    "from sklearn.metrics import confusion_matrix\n",
    "import keras as ks\n",
    "from tensorflow.keras.constraints import max_norm\n",
    "from tensorflow.keras import layers\n",
    "from tensorflow.keras import regularizers"
   ]
  },
  {
   "cell_type": "code",
   "execution_count": 3,
   "metadata": {},
   "outputs": [],
   "source": [
    "def rmse_ann3(y_true, y_pred):\n",
    "    diff = keras.backend.square(\n",
    "        (y_pred - y_true))\n",
    "    return keras.backend.sqrt(keras.backend.mean(diff))\n",
    "def create_bins(lower_bound, width, quantity):\n",
    "    \"\"\" create_bins returns an equal-width (distance) partitioning. \n",
    "        It returns an ascending list of tuples, representing the intervals.\n",
    "        A tuple bins[i], i.e. (bins[i][0], bins[i][1])  with i > 0 \n",
    "        and i < quantity, satisfies the following conditions:\n",
    "            (1) bins[i][0] + width == bins[i][1]\n",
    "            (2) bins[i-1][0] + width == bins[i][0] and\n",
    "                bins[i-1][1] + width == bins[i][1]\n",
    "    \"\"\"\n",
    "    \n",
    "\n",
    "    bins = []\n",
    "    for low in range(lower_bound, \n",
    "                     lower_bound + quantity*width + 1, width):\n",
    "        bins.append((low, low+width))\n",
    "    return np.asrraty(bins)\n"
   ]
  },
  {
   "cell_type": "code",
   "execution_count": 4,
   "metadata": {},
   "outputs": [],
   "source": [
    "data = Table.read(\"/home/rafael/Projetos/master-thesis/data/vipers.fits\").to_pandas()"
   ]
  },
  {
   "cell_type": "code",
   "execution_count": 5,
   "metadata": {},
   "outputs": [],
   "source": [
    "feat = ['MAG_AUTO_G','MAG_AUTO_R','MAG_AUTO_I','MAG_AUTO_Z','MAG_AUTO_Y',\n",
    "        'MAG_AUTO_G_DERED','MAG_AUTO_R_DERED','MAG_AUTO_I_DERED','MAG_AUTO_Z_DERED','MAG_AUTO_Y_DERED',\n",
    "        \"WAVG_MAG_PSF_G\",\"WAVG_MAG_PSF_R\",\"WAVG_MAG_PSF_I\",\"WAVG_MAG_PSF_Z\",\"WAVG_MAG_PSF_Y\"\n",
    "       ,'WAVG_MAG_PSF_G_DERED','WAVG_MAG_PSF_R_DERED','WAVG_MAG_PSF_I_DERED','WAVG_MAG_PSF_Z_DERED','WAVG_MAG_PSF_Y_DERED']\n"
   ]
  },
  {
   "cell_type": "code",
   "execution_count": 6,
   "metadata": {},
   "outputs": [],
   "source": [
    "data.loc[data[feat[0]]==99,feat[0]] = data[data[feat[0]]!=99][feat[0]].max()\n",
    "data.loc[data[feat[1]]==99,feat[1]] = data[data[feat[1]]!=99][feat[1]].max()\n",
    "data.loc[data[feat[2]]==99,feat[2]] = data[data[feat[2]]!=99][feat[2]].max()\n",
    "data.loc[data[feat[3]]==99,feat[3]] = data[data[feat[3]]!=99][feat[3]].max()\n",
    "data.loc[data[feat[4]]==99,feat[4]] = data[data[feat[4]]!=99][feat[4]].max()\n",
    "data.loc[data[feat[5]]>90,feat[5]] = data[data[feat[5]]<90][feat[5]].max()\n",
    "data.loc[data[feat[6]]>90,feat[6]] = data[data[feat[6]]<90][feat[6]].max()\n",
    "data.loc[data[feat[7]]>90,feat[7]] = data[data[feat[7]]<90][feat[7]].max()\n",
    "data.loc[data[feat[8]]>90,feat[8]] = data[data[feat[8]]<90][feat[8]].max()\n",
    "data.loc[data[feat[9]]>90,feat[9]] = data[data[feat[9]]<90][feat[9]].max()\n",
    "data.loc[data[feat[10]]>90,feat[10]] = data[data[feat[10]]<90][feat[10]].max()\n",
    "data.loc[data[feat[11]]>90,feat[11]] = data[data[feat[11]]<90][feat[11]].max()\n",
    "data.loc[data[feat[12]]>90,feat[12]] = data[data[feat[12]]<90][feat[12]].max()\n",
    "data.loc[data[feat[13]]>90,feat[13]] = data[data[feat[13]]<90][feat[13]].max()\n",
    "data.loc[data[feat[14]]>90,feat[14]] = data[data[feat[14]]<90][feat[14]].max()\n",
    "data.loc[data[feat[15]]>90,feat[15]] = data[data[feat[15]]<90][feat[15]].max()\n",
    "data.loc[data[feat[16]]>90,feat[16]] = data[data[feat[16]]<90][feat[16]].max()\n",
    "data.loc[data[feat[17]]>90,feat[17]] = data[data[feat[17]]<90][feat[17]].max()\n",
    "data.loc[data[feat[18]]>90,feat[18]] = data[data[feat[18]]<90][feat[18]].max()\n",
    "data.loc[data[feat[19]]>90,feat[19]] = data[data[feat[19]]<90][feat[19]].max()"
   ]
  },
  {
   "cell_type": "code",
   "execution_count": 7,
   "metadata": {},
   "outputs": [],
   "source": [
    "X,y = ml.get_features_targets_des2(data)\n",
    "y = y.reshape(-1,1)"
   ]
  },
  {
   "cell_type": "code",
   "execution_count": 8,
   "metadata": {},
   "outputs": [
    {
     "data": {
      "text/plain": [
       "(47658, 5)"
      ]
     },
     "execution_count": 8,
     "metadata": {},
     "output_type": "execute_result"
    }
   ],
   "source": [
    "X.shape"
   ]
  },
  {
   "cell_type": "code",
   "execution_count": 9,
   "metadata": {},
   "outputs": [],
   "source": [
    "from sklearn.preprocessing import KBinsDiscretizer\n",
    "kbins = KBinsDiscretizer(200,encode = \"onehot\",strategy = \"uniform\")\n",
    "kbins.fit(y.reshape(-1,1))\n",
    "y_bins = kbins.transform(y.reshape(-1,1))\n"
   ]
  },
  {
   "cell_type": "code",
   "execution_count": 10,
   "metadata": {},
   "outputs": [],
   "source": [
    "from scipy.sparse import hstack,vstack"
   ]
  },
  {
   "cell_type": "code",
   "execution_count": 11,
   "metadata": {},
   "outputs": [
    {
     "data": {
      "text/plain": [
       "(47658, 201)"
      ]
     },
     "execution_count": 11,
     "metadata": {},
     "output_type": "execute_result"
    }
   ],
   "source": [
    "y_total = hstack([y_bins,y])\n",
    "y_total.shape"
   ]
  },
  {
   "cell_type": "code",
   "execution_count": 12,
   "metadata": {},
   "outputs": [],
   "source": [
    "y_total = y_total.toarray()"
   ]
  },
  {
   "cell_type": "code",
   "execution_count": 13,
   "metadata": {},
   "outputs": [],
   "source": [
    "# concatenate the mag for plot purpose only\n",
    "\n",
    "X = np.concatenate((X,data[['MAG_AUTO_G_DERED','MAG_AUTO_R_DERED','MAG_AUTO_I_DERED','MAG_AUTO_Z_DERED','MAG_AUTO_Y_DERED',]].values),axis = 1 )"
   ]
  },
  {
   "cell_type": "code",
   "execution_count": 14,
   "metadata": {},
   "outputs": [
    {
     "data": {
      "text/plain": [
       "(47658, 10)"
      ]
     },
     "execution_count": 14,
     "metadata": {},
     "output_type": "execute_result"
    }
   ],
   "source": [
    "X.shape"
   ]
  },
  {
   "cell_type": "code",
   "execution_count": 15,
   "metadata": {},
   "outputs": [],
   "source": [
    "X_train,X_test,y_train,y_test = ml.tts_split(X,y_total,0.3,5)"
   ]
  },
  {
   "cell_type": "code",
   "execution_count": 16,
   "metadata": {},
   "outputs": [
    {
     "data": {
      "text/plain": [
       "10"
      ]
     },
     "execution_count": 16,
     "metadata": {},
     "output_type": "execute_result"
    }
   ],
   "source": [
    "n_inputs = X_train.shape[1]\n",
    "n_inputs"
   ]
  },
  {
   "cell_type": "code",
   "execution_count": 17,
   "metadata": {},
   "outputs": [],
   "source": [
    "EarlyStop = EarlyStopping(monitor='reg_mse', mode='min', patience=25)\n",
    "BATCH_SIZE = 64\n",
    "STEPS_PER_EPOCH = len(data)//BATCH_SIZE\n",
    "lr_schedule = tf.keras.optimizers.schedules.InverseTimeDecay(\n",
    "        0.0001,\n",
    "        decay_steps=STEPS_PER_EPOCH*1000,\n",
    "        decay_rate=1,\n",
    "        staircase=False)"
   ]
  },
  {
   "cell_type": "code",
   "execution_count": 18,
   "metadata": {},
   "outputs": [],
   "source": [
    "inputs = keras.layers.Input(5)\n",
    "x = BatchNormalization()(inputs)\n",
    "x = Dense(20, kernel_initializer='normal',  kernel_constraint=max_norm(2.) ,activation='tanh',kernel_regularizer=regularizers.l1_l2(l1=1e-5, l2=1e-4),\n",
    "                              bias_regularizer=regularizers.l2(1e-4),activity_regularizer=regularizers.l2(1e-5)) (x)\n",
    "x = BatchNormalization()(x)\n",
    "x = Dense(15, kernel_initializer='normal',  kernel_constraint=max_norm(2.) ,activation='tanh',kernel_regularizer=regularizers.l1_l2(l1=1e-5, l2=1e-4),\n",
    "                              bias_regularizer=regularizers.l2(1e-4),activity_regularizer=regularizers.l2(1e-5)) (x)\n",
    "x = BatchNormalization()(x)\n",
    "x = Dense(10, kernel_initializer='normal',  kernel_constraint=max_norm(2.) ,activation='tanh',kernel_regularizer=regularizers.l1_l2(l1=1e-5, l2=1e-4),\n",
    "                              bias_regularizer=regularizers.l2(1e-4),activity_regularizer=regularizers.l2(1e-5)) (x)\n",
    "output1 = Dense(1,activation = \"linear\",name = \"reg\") (x)\n",
    "output2 = Dense(200,activation = \"softmax\",name =\"pdf\")(x)\n",
    "model = keras.Model(inputs=inputs, outputs=[output1,output2], name=\"rafael\")"
   ]
  },
  {
   "cell_type": "code",
   "execution_count": 19,
   "metadata": {},
   "outputs": [
    {
     "name": "stdout",
     "output_type": "stream",
     "text": [
      "Model: \"rafael\"\n",
      "__________________________________________________________________________________________________\n",
      "Layer (type)                    Output Shape         Param #     Connected to                     \n",
      "==================================================================================================\n",
      "input_1 (InputLayer)            [(None, 5)]          0                                            \n",
      "__________________________________________________________________________________________________\n",
      "batch_normalization (BatchNorma (None, 5)            20          input_1[0][0]                    \n",
      "__________________________________________________________________________________________________\n",
      "dense (Dense)                   (None, 20)           120         batch_normalization[0][0]        \n",
      "__________________________________________________________________________________________________\n",
      "batch_normalization_1 (BatchNor (None, 20)           80          dense[0][0]                      \n",
      "__________________________________________________________________________________________________\n",
      "dense_1 (Dense)                 (None, 15)           315         batch_normalization_1[0][0]      \n",
      "__________________________________________________________________________________________________\n",
      "batch_normalization_2 (BatchNor (None, 15)           60          dense_1[0][0]                    \n",
      "__________________________________________________________________________________________________\n",
      "dense_2 (Dense)                 (None, 10)           160         batch_normalization_2[0][0]      \n",
      "__________________________________________________________________________________________________\n",
      "reg (Dense)                     (None, 1)            11          dense_2[0][0]                    \n",
      "__________________________________________________________________________________________________\n",
      "pdf (Dense)                     (None, 200)          2200        dense_2[0][0]                    \n",
      "==================================================================================================\n",
      "Total params: 2,966\n",
      "Trainable params: 2,886\n",
      "Non-trainable params: 80\n",
      "__________________________________________________________________________________________________\n"
     ]
    }
   ],
   "source": [
    "model.summary()"
   ]
  },
  {
   "cell_type": "code",
   "execution_count": 20,
   "metadata": {},
   "outputs": [],
   "source": [
    "model.compile(\n",
    "    loss={'reg': 'mean_absolute_error', \n",
    "                    'pdf': keras.losses.CategoricalCrossentropy()},loss_weights=[0.1,0.9],\n",
    "              optimizer=ks.optimizers.Adam(lr_schedule),\n",
    "              metrics={'pdf': \"acc\",\n",
    "                      'reg': \"mse\"})"
   ]
  },
  {
   "cell_type": "code",
   "execution_count": null,
   "metadata": {
    "scrolled": true
   },
   "outputs": [
    {
     "name": "stdout",
     "output_type": "stream",
     "text": [
      "Epoch 1/256\n",
      "209/209 [==============================] - 1s 4ms/step - loss: 4.8132 - reg_loss: 0.6523 - pdf_loss: 5.2751 - reg_mse: 0.5254 - pdf_acc: 0.0245 - val_loss: 4.8024 - val_reg_loss: 0.6269 - val_pdf_loss: 5.2659 - val_reg_mse: 0.4320 - val_pdf_acc: 0.0280\n",
      "Epoch 2/256\n",
      "209/209 [==============================] - 1s 3ms/step - loss: 4.7277 - reg_loss: 0.5306 - pdf_loss: 5.1936 - reg_mse: 0.4233 - pdf_acc: 0.0429 - val_loss: 4.6975 - val_reg_loss: 0.4050 - val_pdf_loss: 5.1740 - val_reg_mse: 0.2380 - val_pdf_acc: 0.0504\n",
      "Epoch 3/256\n",
      "209/209 [==============================] - 1s 3ms/step - loss: 4.5894 - reg_loss: 0.4039 - pdf_loss: 5.0540 - reg_mse: 0.2684 - pdf_acc: 0.0452 - val_loss: 4.4847 - val_reg_loss: 0.2384 - val_pdf_loss: 4.9560 - val_reg_mse: 0.1113 - val_pdf_acc: 0.0402\n",
      "Epoch 4/256\n",
      "209/209 [==============================] - 1s 3ms/step - loss: 4.4291 - reg_loss: 0.2971 - pdf_loss: 4.8876 - reg_mse: 0.1459 - pdf_acc: 0.0443 - val_loss: 4.3233 - val_reg_loss: 0.2449 - val_pdf_loss: 4.7758 - val_reg_mse: 0.0942 - val_pdf_acc: 0.0378\n",
      "Epoch 5/256\n",
      "209/209 [==============================] - 1s 3ms/step - loss: 4.2831 - reg_loss: 0.2495 - pdf_loss: 4.7306 - reg_mse: 0.1016 - pdf_acc: 0.0460 - val_loss: 4.1961 - val_reg_loss: 0.2742 - val_pdf_loss: 4.6312 - val_reg_mse: 0.1151 - val_pdf_acc: 0.0405\n",
      "Epoch 6/256\n",
      "209/209 [==============================] - 1s 3ms/step - loss: 4.1498 - reg_loss: 0.2548 - pdf_loss: 4.5818 - reg_mse: 0.1011 - pdf_acc: 0.0526 - val_loss: 4.0729 - val_reg_loss: 0.2938 - val_pdf_loss: 4.4920 - val_reg_mse: 0.1275 - val_pdf_acc: 0.0505\n",
      "Epoch 7/256\n",
      "209/209 [==============================] - 1s 3ms/step - loss: 4.0209 - reg_loss: 0.2776 - pdf_loss: 4.4360 - reg_mse: 0.1183 - pdf_acc: 0.0609 - val_loss: 3.9365 - val_reg_loss: 0.3070 - val_pdf_loss: 4.3388 - val_reg_mse: 0.1454 - val_pdf_acc: 0.0579\n",
      "Epoch 8/256\n",
      "209/209 [==============================] - 1s 3ms/step - loss: 3.8903 - reg_loss: 0.3038 - pdf_loss: 4.2878 - reg_mse: 0.1468 - pdf_acc: 0.0642 - val_loss: 3.8037 - val_reg_loss: 0.3244 - val_pdf_loss: 4.1893 - val_reg_mse: 0.1687 - val_pdf_acc: 0.0631\n",
      "Epoch 9/256\n",
      "209/209 [==============================] - 1s 3ms/step - loss: 3.7604 - reg_loss: 0.3273 - pdf_loss: 4.1407 - reg_mse: 0.1726 - pdf_acc: 0.0693 - val_loss: 3.6755 - val_reg_loss: 0.3459 - val_pdf_loss: 4.0443 - val_reg_mse: 0.1904 - val_pdf_acc: 0.0701\n",
      "Epoch 10/256\n",
      "209/209 [==============================] - 1s 3ms/step - loss: 3.6436 - reg_loss: 0.3352 - pdf_loss: 4.0101 - reg_mse: 0.1803 - pdf_acc: 0.0683 - val_loss: 3.5660 - val_reg_loss: 0.3443 - val_pdf_loss: 3.9227 - val_reg_mse: 0.1840 - val_pdf_acc: 0.0664\n",
      "Epoch 11/256\n",
      "209/209 [==============================] - 1s 3ms/step - loss: 3.5351 - reg_loss: 0.3224 - pdf_loss: 3.8908 - reg_mse: 0.1656 - pdf_acc: 0.0690 - val_loss: 3.4711 - val_reg_loss: 0.3173 - val_pdf_loss: 3.8202 - val_reg_mse: 0.1543 - val_pdf_acc: 0.0664\n",
      "Epoch 12/256\n",
      "209/209 [==============================] - 1s 3ms/step - loss: 3.4446 - reg_loss: 0.2853 - pdf_loss: 3.7942 - reg_mse: 0.1304 - pdf_acc: 0.0651 - val_loss: 3.3921 - val_reg_loss: 0.2641 - val_pdf_loss: 3.7382 - val_reg_mse: 0.1071 - val_pdf_acc: 0.0653\n",
      "Epoch 13/256\n",
      "209/209 [==============================] - 1s 3ms/step - loss: 3.3651 - reg_loss: 0.2385 - pdf_loss: 3.7110 - reg_mse: 0.0917 - pdf_acc: 0.0654 - val_loss: 3.3249 - val_reg_loss: 0.2137 - val_pdf_loss: 3.6691 - val_reg_mse: 0.0714 - val_pdf_acc: 0.0661\n",
      "Epoch 14/256\n",
      "209/209 [==============================] - 1s 3ms/step - loss: 3.3013 - reg_loss: 0.1958 - pdf_loss: 3.6448 - reg_mse: 0.0633 - pdf_acc: 0.0684 - val_loss: 3.2637 - val_reg_loss: 0.1730 - val_pdf_loss: 3.6055 - val_reg_mse: 0.0502 - val_pdf_acc: 0.0700\n",
      "Epoch 15/256\n",
      "209/209 [==============================] - 1s 3ms/step - loss: 3.2454 - reg_loss: 0.1646 - pdf_loss: 3.5861 - reg_mse: 0.0484 - pdf_acc: 0.0706 - val_loss: 3.2106 - val_reg_loss: 0.1461 - val_pdf_loss: 3.5494 - val_reg_mse: 0.0389 - val_pdf_acc: 0.0772\n",
      "Epoch 16/256\n",
      "209/209 [==============================] - 1s 3ms/step - loss: 3.2007 - reg_loss: 0.1512 - pdf_loss: 3.5378 - reg_mse: 0.0434 - pdf_acc: 0.0744 - val_loss: 3.1712 - val_reg_loss: 0.1307 - val_pdf_loss: 3.5074 - val_reg_mse: 0.0325 - val_pdf_acc: 0.0803\n",
      "Epoch 17/256\n",
      "209/209 [==============================] - 1s 3ms/step - loss: 3.1649 - reg_loss: 0.1446 - pdf_loss: 3.4988 - reg_mse: 0.0409 - pdf_acc: 0.0819 - val_loss: 3.1374 - val_reg_loss: 0.1329 - val_pdf_loss: 3.4695 - val_reg_mse: 0.0338 - val_pdf_acc: 0.0868\n",
      "Epoch 18/256\n",
      "209/209 [==============================] - 1s 4ms/step - loss: 3.1352 - reg_loss: 0.1417 - pdf_loss: 3.4660 - reg_mse: 0.0399 - pdf_acc: 0.0842 - val_loss: 3.1075 - val_reg_loss: 0.1314 - val_pdf_loss: 3.4364 - val_reg_mse: 0.0334 - val_pdf_acc: 0.0859\n",
      "Epoch 19/256\n",
      "209/209 [==============================] - 1s 3ms/step - loss: 3.1109 - reg_loss: 0.1390 - pdf_loss: 3.4393 - reg_mse: 0.0385 - pdf_acc: 0.0887 - val_loss: 3.0844 - val_reg_loss: 0.1315 - val_pdf_loss: 3.4106 - val_reg_mse: 0.0339 - val_pdf_acc: 0.0871\n",
      "Epoch 20/256\n",
      "209/209 [==============================] - 1s 3ms/step - loss: 3.0905 - reg_loss: 0.1344 - pdf_loss: 3.4171 - reg_mse: 0.0364 - pdf_acc: 0.0891 - val_loss: 3.0644 - val_reg_loss: 0.1264 - val_pdf_loss: 3.3890 - val_reg_mse: 0.0312 - val_pdf_acc: 0.0890\n",
      "Epoch 21/256\n",
      "209/209 [==============================] - 1s 3ms/step - loss: 3.0735 - reg_loss: 0.1313 - pdf_loss: 3.3985 - reg_mse: 0.0351 - pdf_acc: 0.0897 - val_loss: 3.0455 - val_reg_loss: 0.1227 - val_pdf_loss: 3.3683 - val_reg_mse: 0.0295 - val_pdf_acc: 0.0880\n",
      "Epoch 22/256\n",
      "209/209 [==============================] - 1s 3ms/step - loss: 3.0538 - reg_loss: 0.1267 - pdf_loss: 3.3771 - reg_mse: 0.0330 - pdf_acc: 0.0905 - val_loss: 3.0289 - val_reg_loss: 0.1210 - val_pdf_loss: 3.3500 - val_reg_mse: 0.0290 - val_pdf_acc: 0.0895\n",
      "Epoch 23/256\n",
      "209/209 [==============================] - 1s 3ms/step - loss: 3.0427 - reg_loss: 0.1248 - pdf_loss: 3.3649 - reg_mse: 0.0323 - pdf_acc: 0.0921 - val_loss: 3.0193 - val_reg_loss: 0.1156 - val_pdf_loss: 3.3399 - val_reg_mse: 0.0263 - val_pdf_acc: 0.0907\n",
      "Epoch 24/256\n",
      "209/209 [==============================] - 1s 3ms/step - loss: 3.0300 - reg_loss: 0.1203 - pdf_loss: 3.3513 - reg_mse: 0.0303 - pdf_acc: 0.0917 - val_loss: 3.0032 - val_reg_loss: 0.1161 - val_pdf_loss: 3.3219 - val_reg_mse: 0.0270 - val_pdf_acc: 0.0922\n",
      "Epoch 25/256\n",
      "209/209 [==============================] - 1s 3ms/step - loss: 3.0185 - reg_loss: 0.1189 - pdf_loss: 3.3386 - reg_mse: 0.0300 - pdf_acc: 0.0935 - val_loss: 2.9959 - val_reg_loss: 0.1124 - val_pdf_loss: 3.3142 - val_reg_mse: 0.0254 - val_pdf_acc: 0.0911\n",
      "Epoch 26/256\n",
      "209/209 [==============================] - 1s 3ms/step - loss: 3.0092 - reg_loss: 0.1162 - pdf_loss: 3.3285 - reg_mse: 0.0288 - pdf_acc: 0.0951 - val_loss: 2.9831 - val_reg_loss: 0.1098 - val_pdf_loss: 3.3002 - val_reg_mse: 0.0241 - val_pdf_acc: 0.0949\n",
      "Epoch 27/256\n",
      "209/209 [==============================] - 1s 3ms/step - loss: 3.0011 - reg_loss: 0.1144 - pdf_loss: 3.3197 - reg_mse: 0.0280 - pdf_acc: 0.0933 - val_loss: 2.9780 - val_reg_loss: 0.1060 - val_pdf_loss: 3.2950 - val_reg_mse: 0.0226 - val_pdf_acc: 0.0953\n",
      "Epoch 28/256\n",
      "209/209 [==============================] - 1s 3ms/step - loss: 2.9923 - reg_loss: 0.1122 - pdf_loss: 3.3102 - reg_mse: 0.0273 - pdf_acc: 0.0919 - val_loss: 2.9676 - val_reg_loss: 0.1073 - val_pdf_loss: 3.2832 - val_reg_mse: 0.0235 - val_pdf_acc: 0.0943\n",
      "Epoch 29/256\n",
      "209/209 [==============================] - 1s 3ms/step - loss: 2.9851 - reg_loss: 0.1103 - pdf_loss: 3.3023 - reg_mse: 0.0267 - pdf_acc: 0.0942 - val_loss: 2.9612 - val_reg_loss: 0.1059 - val_pdf_loss: 3.2763 - val_reg_mse: 0.0232 - val_pdf_acc: 0.0952\n",
      "Epoch 30/256\n",
      "209/209 [==============================] - 1s 3ms/step - loss: 2.9786 - reg_loss: 0.1089 - pdf_loss: 3.2953 - reg_mse: 0.0263 - pdf_acc: 0.0951 - val_loss: 2.9551 - val_reg_loss: 0.1042 - val_pdf_loss: 3.2696 - val_reg_mse: 0.0224 - val_pdf_acc: 0.0952\n",
      "Epoch 31/256\n",
      "209/209 [==============================] - 1s 4ms/step - loss: 2.9718 - reg_loss: 0.1070 - pdf_loss: 3.2879 - reg_mse: 0.0256 - pdf_acc: 0.0948 - val_loss: 2.9482 - val_reg_loss: 0.1022 - val_pdf_loss: 3.2622 - val_reg_mse: 0.0217 - val_pdf_acc: 0.0946\n",
      "Epoch 32/256\n",
      "209/209 [==============================] - 1s 3ms/step - loss: 2.9672 - reg_loss: 0.1060 - pdf_loss: 3.2829 - reg_mse: 0.0255 - pdf_acc: 0.0927 - val_loss: 2.9404 - val_reg_loss: 0.0994 - val_pdf_loss: 3.2538 - val_reg_mse: 0.0207 - val_pdf_acc: 0.0941\n",
      "Epoch 33/256\n",
      "209/209 [==============================] - 1s 3ms/step - loss: 2.9613 - reg_loss: 0.1043 - pdf_loss: 3.2764 - reg_mse: 0.0249 - pdf_acc: 0.0935 - val_loss: 2.9405 - val_reg_loss: 0.0979 - val_pdf_loss: 3.2541 - val_reg_mse: 0.0204 - val_pdf_acc: 0.0941\n",
      "Epoch 34/256\n",
      "209/209 [==============================] - 1s 3ms/step - loss: 2.9547 - reg_loss: 0.1033 - pdf_loss: 3.2693 - reg_mse: 0.0250 - pdf_acc: 0.0966 - val_loss: 2.9330 - val_reg_loss: 0.0963 - val_pdf_loss: 3.2459 - val_reg_mse: 0.0199 - val_pdf_acc: 0.0938\n",
      "Epoch 35/256\n",
      "209/209 [==============================] - 1s 3ms/step - loss: 2.9548 - reg_loss: 0.1017 - pdf_loss: 3.2695 - reg_mse: 0.0243 - pdf_acc: 0.0959 - val_loss: 2.9262 - val_reg_loss: 0.0962 - val_pdf_loss: 3.2383 - val_reg_mse: 0.0201 - val_pdf_acc: 0.0941\n",
      "Epoch 36/256\n",
      "209/209 [==============================] - 1s 3ms/step - loss: 2.9489 - reg_loss: 0.1012 - pdf_loss: 3.2630 - reg_mse: 0.0243 - pdf_acc: 0.0955 - val_loss: 2.9210 - val_reg_loss: 0.0957 - val_pdf_loss: 3.2326 - val_reg_mse: 0.0201 - val_pdf_acc: 0.0943\n",
      "Epoch 37/256\n",
      "209/209 [==============================] - 1s 3ms/step - loss: 2.9440 - reg_loss: 0.1008 - pdf_loss: 3.2576 - reg_mse: 0.0245 - pdf_acc: 0.0947 - val_loss: 2.9215 - val_reg_loss: 0.0952 - val_pdf_loss: 3.2332 - val_reg_mse: 0.0201 - val_pdf_acc: 0.0961\n",
      "Epoch 38/256\n",
      "209/209 [==============================] - 1s 3ms/step - loss: 2.9396 - reg_loss: 0.1006 - pdf_loss: 3.2526 - reg_mse: 0.0248 - pdf_acc: 0.0960 - val_loss: 2.9180 - val_reg_loss: 0.0934 - val_pdf_loss: 3.2295 - val_reg_mse: 0.0195 - val_pdf_acc: 0.0955\n",
      "Epoch 39/256\n",
      "209/209 [==============================] - 1s 3ms/step - loss: 2.9354 - reg_loss: 0.0994 - pdf_loss: 3.2481 - reg_mse: 0.0242 - pdf_acc: 0.0958 - val_loss: 2.9133 - val_reg_loss: 0.0929 - val_pdf_loss: 3.2243 - val_reg_mse: 0.0195 - val_pdf_acc: 0.0956\n",
      "Epoch 40/256\n",
      "209/209 [==============================] - 1s 3ms/step - loss: 2.9339 - reg_loss: 0.0998 - pdf_loss: 3.2464 - reg_mse: 0.0247 - pdf_acc: 0.0957 - val_loss: 2.9076 - val_reg_loss: 0.0938 - val_pdf_loss: 3.2179 - val_reg_mse: 0.0199 - val_pdf_acc: 0.0955\n",
      "Epoch 41/256\n",
      "209/209 [==============================] - 1s 3ms/step - loss: 2.9296 - reg_loss: 0.0993 - pdf_loss: 3.2416 - reg_mse: 0.0246 - pdf_acc: 0.0963 - val_loss: 2.9034 - val_reg_loss: 0.0936 - val_pdf_loss: 3.2132 - val_reg_mse: 0.0201 - val_pdf_acc: 0.0955\n",
      "Epoch 42/256\n",
      "209/209 [==============================] - 1s 3ms/step - loss: 2.9288 - reg_loss: 0.0998 - pdf_loss: 3.2407 - reg_mse: 0.0252 - pdf_acc: 0.0961 - val_loss: 2.9006 - val_reg_loss: 0.0935 - val_pdf_loss: 3.2101 - val_reg_mse: 0.0201 - val_pdf_acc: 0.0967\n",
      "Epoch 43/256\n",
      "209/209 [==============================] - 1s 3ms/step - loss: 2.9251 - reg_loss: 0.0997 - pdf_loss: 3.2366 - reg_mse: 0.0252 - pdf_acc: 0.0963 - val_loss: 2.9012 - val_reg_loss: 0.0925 - val_pdf_loss: 3.2108 - val_reg_mse: 0.0195 - val_pdf_acc: 0.0970\n",
      "Epoch 44/256\n",
      "209/209 [==============================] - 1s 3ms/step - loss: 2.9216 - reg_loss: 0.0995 - pdf_loss: 3.2327 - reg_mse: 0.0251 - pdf_acc: 0.0993 - val_loss: 2.9029 - val_reg_loss: 0.0925 - val_pdf_loss: 3.2127 - val_reg_mse: 0.0197 - val_pdf_acc: 0.0962\n",
      "Epoch 45/256\n",
      "209/209 [==============================] - 1s 3ms/step - loss: 2.9219 - reg_loss: 0.0998 - pdf_loss: 3.2330 - reg_mse: 0.0255 - pdf_acc: 0.0961 - val_loss: 2.8943 - val_reg_loss: 0.0923 - val_pdf_loss: 3.2032 - val_reg_mse: 0.0196 - val_pdf_acc: 0.0961\n",
      "Epoch 46/256\n",
      "209/209 [==============================] - 1s 3ms/step - loss: 2.9160 - reg_loss: 0.0993 - pdf_loss: 3.2265 - reg_mse: 0.0252 - pdf_acc: 0.0961 - val_loss: 2.8951 - val_reg_loss: 0.0944 - val_pdf_loss: 3.2038 - val_reg_mse: 0.0206 - val_pdf_acc: 0.0958\n",
      "Epoch 47/256\n",
      "209/209 [==============================] - 1s 3ms/step - loss: 2.9148 - reg_loss: 0.1004 - pdf_loss: 3.2250 - reg_mse: 0.0258 - pdf_acc: 0.0973 - val_loss: 2.8881 - val_reg_loss: 0.0942 - val_pdf_loss: 3.1960 - val_reg_mse: 0.0205 - val_pdf_acc: 0.0962\n",
      "Epoch 48/256\n",
      "209/209 [==============================] - 1s 3ms/step - loss: 2.9139 - reg_loss: 0.1002 - pdf_loss: 3.2240 - reg_mse: 0.0258 - pdf_acc: 0.0962 - val_loss: 2.8865 - val_reg_loss: 0.0945 - val_pdf_loss: 3.1942 - val_reg_mse: 0.0204 - val_pdf_acc: 0.0952\n",
      "Epoch 49/256\n",
      "209/209 [==============================] - 1s 3ms/step - loss: 2.9109 - reg_loss: 0.1004 - pdf_loss: 3.2207 - reg_mse: 0.0258 - pdf_acc: 0.0987 - val_loss: 2.8877 - val_reg_loss: 0.0947 - val_pdf_loss: 3.1955 - val_reg_mse: 0.0208 - val_pdf_acc: 0.0979\n",
      "Epoch 50/256\n",
      "209/209 [==============================] - 1s 3ms/step - loss: 2.9105 - reg_loss: 0.1017 - pdf_loss: 3.2200 - reg_mse: 0.0265 - pdf_acc: 0.0977 - val_loss: 2.8853 - val_reg_loss: 0.0938 - val_pdf_loss: 3.1929 - val_reg_mse: 0.0202 - val_pdf_acc: 0.0970\n",
      "Epoch 51/256\n",
      "209/209 [==============================] - 1s 3ms/step - loss: 2.9077 - reg_loss: 0.1008 - pdf_loss: 3.2170 - reg_mse: 0.0261 - pdf_acc: 0.0979 - val_loss: 2.8842 - val_reg_loss: 0.0949 - val_pdf_loss: 3.1916 - val_reg_mse: 0.0208 - val_pdf_acc: 0.0973\n",
      "Epoch 52/256\n",
      "209/209 [==============================] - 1s 3ms/step - loss: 2.9054 - reg_loss: 0.1011 - pdf_loss: 3.2144 - reg_mse: 0.0266 - pdf_acc: 0.0977 - val_loss: 2.8848 - val_reg_loss: 0.0946 - val_pdf_loss: 3.1922 - val_reg_mse: 0.0207 - val_pdf_acc: 0.0974\n",
      "Epoch 53/256\n",
      "209/209 [==============================] - 1s 3ms/step - loss: 2.9033 - reg_loss: 0.1010 - pdf_loss: 3.2122 - reg_mse: 0.0263 - pdf_acc: 0.0972 - val_loss: 2.8802 - val_reg_loss: 0.0952 - val_pdf_loss: 3.1871 - val_reg_mse: 0.0208 - val_pdf_acc: 0.0970\n",
      "Epoch 54/256\n",
      "209/209 [==============================] - 1s 3ms/step - loss: 2.9005 - reg_loss: 0.1014 - pdf_loss: 3.2089 - reg_mse: 0.0267 - pdf_acc: 0.0986 - val_loss: 2.8799 - val_reg_loss: 0.0944 - val_pdf_loss: 3.1868 - val_reg_mse: 0.0206 - val_pdf_acc: 0.0980\n",
      "Epoch 55/256\n",
      "209/209 [==============================] - 1s 3ms/step - loss: 2.9027 - reg_loss: 0.1014 - pdf_loss: 3.2114 - reg_mse: 0.0265 - pdf_acc: 0.0983 - val_loss: 2.8791 - val_reg_loss: 0.0948 - val_pdf_loss: 3.1858 - val_reg_mse: 0.0205 - val_pdf_acc: 0.0982\n",
      "Epoch 56/256\n",
      "209/209 [==============================] - 1s 3ms/step - loss: 2.8985 - reg_loss: 0.1013 - pdf_loss: 3.2067 - reg_mse: 0.0265 - pdf_acc: 0.0978 - val_loss: 2.8750 - val_reg_loss: 0.0943 - val_pdf_loss: 3.1814 - val_reg_mse: 0.0204 - val_pdf_acc: 0.0988\n",
      "Epoch 57/256\n",
      "209/209 [==============================] - 1s 3ms/step - loss: 2.8975 - reg_loss: 0.1009 - pdf_loss: 3.2056 - reg_mse: 0.0264 - pdf_acc: 0.0982 - val_loss: 2.8757 - val_reg_loss: 0.0951 - val_pdf_loss: 3.1821 - val_reg_mse: 0.0208 - val_pdf_acc: 0.0974\n",
      "Epoch 58/256\n",
      "209/209 [==============================] - 1s 3ms/step - loss: 2.8987 - reg_loss: 0.1015 - pdf_loss: 3.2069 - reg_mse: 0.0266 - pdf_acc: 0.0990 - val_loss: 2.8755 - val_reg_loss: 0.0951 - val_pdf_loss: 3.1819 - val_reg_mse: 0.0210 - val_pdf_acc: 0.0991\n",
      "Epoch 59/256\n",
      "209/209 [==============================] - 1s 3ms/step - loss: 2.8940 - reg_loss: 0.1014 - pdf_loss: 3.2017 - reg_mse: 0.0266 - pdf_acc: 0.0980 - val_loss: 2.8708 - val_reg_loss: 0.0945 - val_pdf_loss: 3.1767 - val_reg_mse: 0.0206 - val_pdf_acc: 0.0997\n",
      "Epoch 60/256\n",
      "209/209 [==============================] - 1s 3ms/step - loss: 2.8958 - reg_loss: 0.1006 - pdf_loss: 3.2038 - reg_mse: 0.0261 - pdf_acc: 0.0998 - val_loss: 2.8708 - val_reg_loss: 0.0951 - val_pdf_loss: 3.1765 - val_reg_mse: 0.0208 - val_pdf_acc: 0.0977\n",
      "Epoch 61/256\n",
      "209/209 [==============================] - 1s 3ms/step - loss: 2.8929 - reg_loss: 0.1010 - pdf_loss: 3.2005 - reg_mse: 0.0264 - pdf_acc: 0.0993 - val_loss: 2.8699 - val_reg_loss: 0.0942 - val_pdf_loss: 3.1757 - val_reg_mse: 0.0206 - val_pdf_acc: 0.0985\n",
      "Epoch 62/256\n",
      "209/209 [==============================] - 1s 3ms/step - loss: 2.8912 - reg_loss: 0.1005 - pdf_loss: 3.1986 - reg_mse: 0.0261 - pdf_acc: 0.0985 - val_loss: 2.8679 - val_reg_loss: 0.0940 - val_pdf_loss: 3.1735 - val_reg_mse: 0.0203 - val_pdf_acc: 0.0985\n",
      "Epoch 63/256\n",
      "209/209 [==============================] - 1s 3ms/step - loss: 2.8900 - reg_loss: 0.1004 - pdf_loss: 3.1973 - reg_mse: 0.0261 - pdf_acc: 0.0995 - val_loss: 2.8656 - val_reg_loss: 0.0941 - val_pdf_loss: 3.1709 - val_reg_mse: 0.0205 - val_pdf_acc: 0.0992\n",
      "Epoch 64/256\n",
      "209/209 [==============================] - 1s 3ms/step - loss: 2.8900 - reg_loss: 0.1008 - pdf_loss: 3.1973 - reg_mse: 0.0263 - pdf_acc: 0.0978 - val_loss: 2.8714 - val_reg_loss: 0.0935 - val_pdf_loss: 3.1774 - val_reg_mse: 0.0201 - val_pdf_acc: 0.0961\n",
      "Epoch 65/256\n",
      "209/209 [==============================] - 1s 3ms/step - loss: 2.8906 - reg_loss: 0.1006 - pdf_loss: 3.1979 - reg_mse: 0.0261 - pdf_acc: 0.0976 - val_loss: 2.8664 - val_reg_loss: 0.0945 - val_pdf_loss: 3.1717 - val_reg_mse: 0.0205 - val_pdf_acc: 0.0971\n",
      "Epoch 66/256\n",
      "209/209 [==============================] - 1s 3ms/step - loss: 2.8862 - reg_loss: 0.1002 - pdf_loss: 3.1930 - reg_mse: 0.0258 - pdf_acc: 0.0990 - val_loss: 2.8648 - val_reg_loss: 0.0937 - val_pdf_loss: 3.1700 - val_reg_mse: 0.0202 - val_pdf_acc: 0.0977\n",
      "Epoch 67/256\n",
      "209/209 [==============================] - 1s 3ms/step - loss: 2.8862 - reg_loss: 0.1002 - pdf_loss: 3.1931 - reg_mse: 0.0258 - pdf_acc: 0.0990 - val_loss: 2.8650 - val_reg_loss: 0.0931 - val_pdf_loss: 3.1703 - val_reg_mse: 0.0200 - val_pdf_acc: 0.0985\n",
      "Epoch 68/256\n",
      "209/209 [==============================] - 1s 3ms/step - loss: 2.8832 - reg_loss: 0.0993 - pdf_loss: 3.1898 - reg_mse: 0.0254 - pdf_acc: 0.0992 - val_loss: 2.8636 - val_reg_loss: 0.0923 - val_pdf_loss: 3.1689 - val_reg_mse: 0.0196 - val_pdf_acc: 0.0995\n",
      "Epoch 69/256\n",
      "209/209 [==============================] - 1s 3ms/step - loss: 2.8847 - reg_loss: 0.0994 - pdf_loss: 3.1914 - reg_mse: 0.0254 - pdf_acc: 0.1003 - val_loss: 2.8659 - val_reg_loss: 0.0934 - val_pdf_loss: 3.1712 - val_reg_mse: 0.0201 - val_pdf_acc: 0.0976\n",
      "Epoch 70/256\n",
      "209/209 [==============================] - 1s 3ms/step - loss: 2.8836 - reg_loss: 0.0992 - pdf_loss: 3.1903 - reg_mse: 0.0252 - pdf_acc: 0.0993 - val_loss: 2.8636 - val_reg_loss: 0.0923 - val_pdf_loss: 3.1688 - val_reg_mse: 0.0195 - val_pdf_acc: 0.0967\n",
      "Epoch 71/256\n",
      "209/209 [==============================] - 1s 3ms/step - loss: 2.8800 - reg_loss: 0.0986 - pdf_loss: 3.1863 - reg_mse: 0.0250 - pdf_acc: 0.0997 - val_loss: 2.8600 - val_reg_loss: 0.0927 - val_pdf_loss: 3.1648 - val_reg_mse: 0.0198 - val_pdf_acc: 0.0974\n",
      "Epoch 72/256\n",
      "209/209 [==============================] - 1s 3ms/step - loss: 2.8812 - reg_loss: 0.0987 - pdf_loss: 3.1877 - reg_mse: 0.0249 - pdf_acc: 0.0979 - val_loss: 2.8604 - val_reg_loss: 0.0925 - val_pdf_loss: 3.1653 - val_reg_mse: 0.0196 - val_pdf_acc: 0.0991\n",
      "Epoch 73/256\n",
      "209/209 [==============================] - 1s 3ms/step - loss: 2.8805 - reg_loss: 0.0982 - pdf_loss: 3.1869 - reg_mse: 0.0248 - pdf_acc: 0.0991 - val_loss: 2.8585 - val_reg_loss: 0.0916 - val_pdf_loss: 3.1632 - val_reg_mse: 0.0193 - val_pdf_acc: 0.0979\n",
      "Epoch 74/256\n",
      "209/209 [==============================] - 1s 3ms/step - loss: 2.8800 - reg_loss: 0.0981 - pdf_loss: 3.1864 - reg_mse: 0.0247 - pdf_acc: 0.0981 - val_loss: 2.8572 - val_reg_loss: 0.0905 - val_pdf_loss: 3.1619 - val_reg_mse: 0.0190 - val_pdf_acc: 0.0983\n",
      "Epoch 75/256\n",
      "209/209 [==============================] - 1s 3ms/step - loss: 2.8771 - reg_loss: 0.0972 - pdf_loss: 3.1833 - reg_mse: 0.0243 - pdf_acc: 0.0995 - val_loss: 2.8611 - val_reg_loss: 0.0917 - val_pdf_loss: 3.1661 - val_reg_mse: 0.0193 - val_pdf_acc: 0.0973\n",
      "Epoch 76/256\n",
      "209/209 [==============================] - 1s 3ms/step - loss: 2.8786 - reg_loss: 0.0972 - pdf_loss: 3.1849 - reg_mse: 0.0241 - pdf_acc: 0.1011 - val_loss: 2.8537 - val_reg_loss: 0.0904 - val_pdf_loss: 3.1580 - val_reg_mse: 0.0189 - val_pdf_acc: 0.0974\n",
      "Epoch 77/256\n",
      "209/209 [==============================] - 1s 3ms/step - loss: 2.8775 - reg_loss: 0.0967 - pdf_loss: 3.1838 - reg_mse: 0.0240 - pdf_acc: 0.1002 - val_loss: 2.8560 - val_reg_loss: 0.0905 - val_pdf_loss: 3.1605 - val_reg_mse: 0.0189 - val_pdf_acc: 0.0992\n",
      "Epoch 78/256\n",
      "209/209 [==============================] - 1s 3ms/step - loss: 2.8722 - reg_loss: 0.0958 - pdf_loss: 3.1779 - reg_mse: 0.0236 - pdf_acc: 0.1008 - val_loss: 2.8518 - val_reg_loss: 0.0899 - val_pdf_loss: 3.1559 - val_reg_mse: 0.0186 - val_pdf_acc: 0.0983\n",
      "Epoch 79/256\n",
      "209/209 [==============================] - 1s 4ms/step - loss: 2.8752 - reg_loss: 0.0961 - pdf_loss: 3.1812 - reg_mse: 0.0237 - pdf_acc: 0.0995 - val_loss: 2.8538 - val_reg_loss: 0.0905 - val_pdf_loss: 3.1581 - val_reg_mse: 0.0188 - val_pdf_acc: 0.0971\n",
      "Epoch 80/256\n",
      "209/209 [==============================] - 1s 3ms/step - loss: 2.8750 - reg_loss: 0.0960 - pdf_loss: 3.1810 - reg_mse: 0.0235 - pdf_acc: 0.1003 - val_loss: 2.8520 - val_reg_loss: 0.0900 - val_pdf_loss: 3.1561 - val_reg_mse: 0.0187 - val_pdf_acc: 0.0976\n",
      "Epoch 81/256\n",
      "209/209 [==============================] - 1s 3ms/step - loss: 2.8719 - reg_loss: 0.0952 - pdf_loss: 3.1776 - reg_mse: 0.0232 - pdf_acc: 0.1006 - val_loss: 2.8506 - val_reg_loss: 0.0896 - val_pdf_loss: 3.1546 - val_reg_mse: 0.0185 - val_pdf_acc: 0.0985\n",
      "Epoch 82/256\n",
      "209/209 [==============================] - 1s 3ms/step - loss: 2.8728 - reg_loss: 0.0949 - pdf_loss: 3.1786 - reg_mse: 0.0230 - pdf_acc: 0.0979 - val_loss: 2.8521 - val_reg_loss: 0.0886 - val_pdf_loss: 3.1564 - val_reg_mse: 0.0181 - val_pdf_acc: 0.1003\n",
      "Epoch 83/256\n",
      "209/209 [==============================] - 1s 3ms/step - loss: 2.8706 - reg_loss: 0.0943 - pdf_loss: 3.1763 - reg_mse: 0.0228 - pdf_acc: 0.0990 - val_loss: 2.8553 - val_reg_loss: 0.0897 - val_pdf_loss: 3.1598 - val_reg_mse: 0.0185 - val_pdf_acc: 0.0988\n",
      "Epoch 84/256\n",
      "209/209 [==============================] - 1s 3ms/step - loss: 2.8717 - reg_loss: 0.0941 - pdf_loss: 3.1776 - reg_mse: 0.0227 - pdf_acc: 0.1013 - val_loss: 2.8494 - val_reg_loss: 0.0888 - val_pdf_loss: 3.1533 - val_reg_mse: 0.0181 - val_pdf_acc: 0.0992\n",
      "Epoch 85/256\n",
      "209/209 [==============================] - 1s 3ms/step - loss: 2.8688 - reg_loss: 0.0937 - pdf_loss: 3.1743 - reg_mse: 0.0224 - pdf_acc: 0.1025 - val_loss: 2.8474 - val_reg_loss: 0.0881 - val_pdf_loss: 3.1512 - val_reg_mse: 0.0180 - val_pdf_acc: 0.0980\n",
      "Epoch 86/256\n",
      "209/209 [==============================] - 1s 3ms/step - loss: 2.8692 - reg_loss: 0.0931 - pdf_loss: 3.1748 - reg_mse: 0.0221 - pdf_acc: 0.1011 - val_loss: 2.8483 - val_reg_loss: 0.0878 - val_pdf_loss: 3.1523 - val_reg_mse: 0.0177 - val_pdf_acc: 0.0977\n",
      "Epoch 87/256\n",
      "209/209 [==============================] - 1s 3ms/step - loss: 2.8675 - reg_loss: 0.0930 - pdf_loss: 3.1730 - reg_mse: 0.0221 - pdf_acc: 0.1006 - val_loss: 2.8499 - val_reg_loss: 0.0880 - val_pdf_loss: 3.1540 - val_reg_mse: 0.0178 - val_pdf_acc: 0.0985\n",
      "Epoch 88/256\n",
      "209/209 [==============================] - 1s 4ms/step - loss: 2.8676 - reg_loss: 0.0924 - pdf_loss: 3.1731 - reg_mse: 0.0219 - pdf_acc: 0.0995 - val_loss: 2.8484 - val_reg_loss: 0.0877 - val_pdf_loss: 3.1523 - val_reg_mse: 0.0177 - val_pdf_acc: 0.0973\n",
      "Epoch 89/256\n",
      "209/209 [==============================] - 1s 3ms/step - loss: 2.8672 - reg_loss: 0.0924 - pdf_loss: 3.1726 - reg_mse: 0.0218 - pdf_acc: 0.1006 - val_loss: 2.8474 - val_reg_loss: 0.0876 - val_pdf_loss: 3.1512 - val_reg_mse: 0.0176 - val_pdf_acc: 0.0970\n",
      "Epoch 90/256\n",
      "209/209 [==============================] - 1s 3ms/step - loss: 2.8648 - reg_loss: 0.0919 - pdf_loss: 3.1700 - reg_mse: 0.0216 - pdf_acc: 0.0992 - val_loss: 2.8467 - val_reg_loss: 0.0865 - val_pdf_loss: 3.1506 - val_reg_mse: 0.0174 - val_pdf_acc: 0.0985\n",
      "Epoch 91/256\n",
      "209/209 [==============================] - 1s 3ms/step - loss: 2.8624 - reg_loss: 0.0914 - pdf_loss: 3.1674 - reg_mse: 0.0215 - pdf_acc: 0.1001 - val_loss: 2.8486 - val_reg_loss: 0.0867 - val_pdf_loss: 3.1526 - val_reg_mse: 0.0174 - val_pdf_acc: 0.0976\n",
      "Epoch 92/256\n",
      "209/209 [==============================] - 1s 3ms/step - loss: 2.8616 - reg_loss: 0.0908 - pdf_loss: 3.1666 - reg_mse: 0.0212 - pdf_acc: 0.1002 - val_loss: 2.8422 - val_reg_loss: 0.0862 - val_pdf_loss: 3.1456 - val_reg_mse: 0.0171 - val_pdf_acc: 0.0983\n",
      "Epoch 93/256\n",
      "209/209 [==============================] - 1s 3ms/step - loss: 2.8654 - reg_loss: 0.0908 - pdf_loss: 3.1709 - reg_mse: 0.0212 - pdf_acc: 0.1018 - val_loss: 2.8447 - val_reg_loss: 0.0860 - val_pdf_loss: 3.1484 - val_reg_mse: 0.0171 - val_pdf_acc: 0.0982\n",
      "Epoch 94/256\n",
      "209/209 [==============================] - 1s 3ms/step - loss: 2.8637 - reg_loss: 0.0901 - pdf_loss: 3.1690 - reg_mse: 0.0209 - pdf_acc: 0.0999 - val_loss: 2.8473 - val_reg_loss: 0.0857 - val_pdf_loss: 3.1513 - val_reg_mse: 0.0171 - val_pdf_acc: 0.0983\n",
      "Epoch 95/256\n",
      "209/209 [==============================] - 1s 3ms/step - loss: 2.8623 - reg_loss: 0.0902 - pdf_loss: 3.1674 - reg_mse: 0.0210 - pdf_acc: 0.1016 - val_loss: 2.8461 - val_reg_loss: 0.0855 - val_pdf_loss: 3.1499 - val_reg_mse: 0.0171 - val_pdf_acc: 0.0988\n",
      "Epoch 96/256\n",
      "209/209 [==============================] - 1s 3ms/step - loss: 2.8606 - reg_loss: 0.0898 - pdf_loss: 3.1656 - reg_mse: 0.0209 - pdf_acc: 0.1016 - val_loss: 2.8457 - val_reg_loss: 0.0853 - val_pdf_loss: 3.1496 - val_reg_mse: 0.0170 - val_pdf_acc: 0.0983\n",
      "Epoch 97/256\n",
      "209/209 [==============================] - 1s 3ms/step - loss: 2.8633 - reg_loss: 0.0896 - pdf_loss: 3.1686 - reg_mse: 0.0208 - pdf_acc: 0.1009 - val_loss: 2.8461 - val_reg_loss: 0.0852 - val_pdf_loss: 3.1499 - val_reg_mse: 0.0169 - val_pdf_acc: 0.0977\n",
      "Epoch 98/256\n",
      "209/209 [==============================] - 1s 4ms/step - loss: 2.8611 - reg_loss: 0.0894 - pdf_loss: 3.1662 - reg_mse: 0.0207 - pdf_acc: 0.1013 - val_loss: 2.8430 - val_reg_loss: 0.0848 - val_pdf_loss: 3.1466 - val_reg_mse: 0.0167 - val_pdf_acc: 0.0982\n",
      "Epoch 99/256\n",
      "209/209 [==============================] - 1s 3ms/step - loss: 2.8597 - reg_loss: 0.0888 - pdf_loss: 3.1646 - reg_mse: 0.0204 - pdf_acc: 0.1002 - val_loss: 2.8459 - val_reg_loss: 0.0848 - val_pdf_loss: 3.1498 - val_reg_mse: 0.0168 - val_pdf_acc: 0.0994\n",
      "Epoch 100/256\n",
      "209/209 [==============================] - 1s 3ms/step - loss: 2.8582 - reg_loss: 0.0888 - pdf_loss: 3.1630 - reg_mse: 0.0204 - pdf_acc: 0.0995 - val_loss: 2.8462 - val_reg_loss: 0.0846 - val_pdf_loss: 3.1501 - val_reg_mse: 0.0169 - val_pdf_acc: 0.0968\n",
      "Epoch 101/256\n",
      "209/209 [==============================] - 1s 3ms/step - loss: 2.8595 - reg_loss: 0.0886 - pdf_loss: 3.1645 - reg_mse: 0.0205 - pdf_acc: 0.0996 - val_loss: 2.8420 - val_reg_loss: 0.0839 - val_pdf_loss: 3.1455 - val_reg_mse: 0.0165 - val_pdf_acc: 0.0980\n",
      "Epoch 102/256\n",
      "209/209 [==============================] - 1s 3ms/step - loss: 2.8587 - reg_loss: 0.0882 - pdf_loss: 3.1636 - reg_mse: 0.0203 - pdf_acc: 0.1004 - val_loss: 2.8412 - val_reg_loss: 0.0840 - val_pdf_loss: 3.1446 - val_reg_mse: 0.0166 - val_pdf_acc: 0.0992\n",
      "Epoch 103/256\n",
      "209/209 [==============================] - 1s 3ms/step - loss: 2.8602 - reg_loss: 0.0883 - pdf_loss: 3.1653 - reg_mse: 0.0202 - pdf_acc: 0.1008 - val_loss: 2.8419 - val_reg_loss: 0.0837 - val_pdf_loss: 3.1455 - val_reg_mse: 0.0165 - val_pdf_acc: 0.1000\n",
      "Epoch 104/256\n",
      "209/209 [==============================] - 1s 3ms/step - loss: 2.8567 - reg_loss: 0.0879 - pdf_loss: 3.1614 - reg_mse: 0.0201 - pdf_acc: 0.1005 - val_loss: 2.8381 - val_reg_loss: 0.0833 - val_pdf_loss: 3.1412 - val_reg_mse: 0.0164 - val_pdf_acc: 0.0998\n",
      "Epoch 105/256\n",
      "209/209 [==============================] - 1s 3ms/step - loss: 2.8575 - reg_loss: 0.0877 - pdf_loss: 3.1623 - reg_mse: 0.0201 - pdf_acc: 0.1009 - val_loss: 2.8389 - val_reg_loss: 0.0834 - val_pdf_loss: 3.1422 - val_reg_mse: 0.0164 - val_pdf_acc: 0.0989\n",
      "Epoch 106/256\n",
      "209/209 [==============================] - 1s 3ms/step - loss: 2.8578 - reg_loss: 0.0879 - pdf_loss: 3.1627 - reg_mse: 0.0201 - pdf_acc: 0.1003 - val_loss: 2.8376 - val_reg_loss: 0.0829 - val_pdf_loss: 3.1408 - val_reg_mse: 0.0162 - val_pdf_acc: 0.0997\n",
      "Epoch 107/256\n",
      "209/209 [==============================] - 1s 3ms/step - loss: 2.8576 - reg_loss: 0.0875 - pdf_loss: 3.1625 - reg_mse: 0.0200 - pdf_acc: 0.1020 - val_loss: 2.8422 - val_reg_loss: 0.0834 - val_pdf_loss: 3.1458 - val_reg_mse: 0.0164 - val_pdf_acc: 0.0992\n",
      "Epoch 108/256\n",
      "209/209 [==============================] - 1s 3ms/step - loss: 2.8566 - reg_loss: 0.0876 - pdf_loss: 3.1613 - reg_mse: 0.0200 - pdf_acc: 0.1000 - val_loss: 2.8378 - val_reg_loss: 0.0826 - val_pdf_loss: 3.1410 - val_reg_mse: 0.0162 - val_pdf_acc: 0.0995\n",
      "Epoch 109/256\n",
      "209/209 [==============================] - 1s 3ms/step - loss: 2.8552 - reg_loss: 0.0872 - pdf_loss: 3.1598 - reg_mse: 0.0199 - pdf_acc: 0.1000 - val_loss: 2.8402 - val_reg_loss: 0.0829 - val_pdf_loss: 3.1436 - val_reg_mse: 0.0163 - val_pdf_acc: 0.1015\n",
      "Epoch 110/256\n",
      "209/209 [==============================] - 1s 3ms/step - loss: 2.8578 - reg_loss: 0.0873 - pdf_loss: 3.1627 - reg_mse: 0.0199 - pdf_acc: 0.1007 - val_loss: 2.8334 - val_reg_loss: 0.0822 - val_pdf_loss: 3.1361 - val_reg_mse: 0.0161 - val_pdf_acc: 0.1030\n",
      "Epoch 111/256\n",
      "209/209 [==============================] - 1s 3ms/step - loss: 2.8546 - reg_loss: 0.0870 - pdf_loss: 3.1592 - reg_mse: 0.0199 - pdf_acc: 0.1020 - val_loss: 2.8387 - val_reg_loss: 0.0827 - val_pdf_loss: 3.1420 - val_reg_mse: 0.0163 - val_pdf_acc: 0.1013\n",
      "Epoch 112/256\n",
      "209/209 [==============================] - 1s 3ms/step - loss: 2.8540 - reg_loss: 0.0869 - pdf_loss: 3.1586 - reg_mse: 0.0198 - pdf_acc: 0.1005 - val_loss: 2.8353 - val_reg_loss: 0.0824 - val_pdf_loss: 3.1382 - val_reg_mse: 0.0162 - val_pdf_acc: 0.1018\n",
      "Epoch 113/256\n",
      "209/209 [==============================] - 1s 3ms/step - loss: 2.8553 - reg_loss: 0.0870 - pdf_loss: 3.1600 - reg_mse: 0.0198 - pdf_acc: 0.0997 - val_loss: 2.8366 - val_reg_loss: 0.0823 - val_pdf_loss: 3.1397 - val_reg_mse: 0.0162 - val_pdf_acc: 0.1013\n",
      "Epoch 114/256\n",
      "209/209 [==============================] - 1s 3ms/step - loss: 2.8520 - reg_loss: 0.0865 - pdf_loss: 3.1563 - reg_mse: 0.0197 - pdf_acc: 0.1003 - val_loss: 2.8410 - val_reg_loss: 0.0829 - val_pdf_loss: 3.1446 - val_reg_mse: 0.0164 - val_pdf_acc: 0.1006\n",
      "Epoch 115/256\n",
      "209/209 [==============================] - 1s 4ms/step - loss: 2.8527 - reg_loss: 0.0865 - pdf_loss: 3.1571 - reg_mse: 0.0196 - pdf_acc: 0.1013 - val_loss: 2.8409 - val_reg_loss: 0.0828 - val_pdf_loss: 3.1444 - val_reg_mse: 0.0163 - val_pdf_acc: 0.1001\n",
      "Epoch 116/256\n",
      "209/209 [==============================] - 1s 3ms/step - loss: 2.8545 - reg_loss: 0.0869 - pdf_loss: 3.1590 - reg_mse: 0.0197 - pdf_acc: 0.1003 - val_loss: 2.8359 - val_reg_loss: 0.0820 - val_pdf_loss: 3.1389 - val_reg_mse: 0.0161 - val_pdf_acc: 0.1007\n",
      "Epoch 117/256\n",
      "209/209 [==============================] - 1s 3ms/step - loss: 2.8505 - reg_loss: 0.0862 - pdf_loss: 3.1547 - reg_mse: 0.0196 - pdf_acc: 0.1001 - val_loss: 2.8361 - val_reg_loss: 0.0823 - val_pdf_loss: 3.1391 - val_reg_mse: 0.0162 - val_pdf_acc: 0.1006\n",
      "Epoch 118/256\n",
      "209/209 [==============================] - 1s 3ms/step - loss: 2.8501 - reg_loss: 0.0864 - pdf_loss: 3.1542 - reg_mse: 0.0196 - pdf_acc: 0.1015 - val_loss: 2.8352 - val_reg_loss: 0.0821 - val_pdf_loss: 3.1382 - val_reg_mse: 0.0161 - val_pdf_acc: 0.1004\n",
      "Epoch 119/256\n",
      "209/209 [==============================] - 1s 3ms/step - loss: 2.8522 - reg_loss: 0.0866 - pdf_loss: 3.1565 - reg_mse: 0.0197 - pdf_acc: 0.1020 - val_loss: 2.8311 - val_reg_loss: 0.0816 - val_pdf_loss: 3.1336 - val_reg_mse: 0.0160 - val_pdf_acc: 0.1018\n",
      "Epoch 120/256\n",
      "209/209 [==============================] - 1s 3ms/step - loss: 2.8504 - reg_loss: 0.0862 - pdf_loss: 3.1546 - reg_mse: 0.0195 - pdf_acc: 0.1030 - val_loss: 2.8335 - val_reg_loss: 0.0818 - val_pdf_loss: 3.1362 - val_reg_mse: 0.0161 - val_pdf_acc: 0.1021\n",
      "Epoch 121/256\n",
      "209/209 [==============================] - 1s 3ms/step - loss: 2.8481 - reg_loss: 0.0860 - pdf_loss: 3.1520 - reg_mse: 0.0195 - pdf_acc: 0.1011 - val_loss: 2.8335 - val_reg_loss: 0.0818 - val_pdf_loss: 3.1362 - val_reg_mse: 0.0161 - val_pdf_acc: 0.1004\n",
      "Epoch 122/256\n",
      "209/209 [==============================] - 1s 3ms/step - loss: 2.8486 - reg_loss: 0.0859 - pdf_loss: 3.1525 - reg_mse: 0.0195 - pdf_acc: 0.1021 - val_loss: 2.8345 - val_reg_loss: 0.0823 - val_pdf_loss: 3.1373 - val_reg_mse: 0.0163 - val_pdf_acc: 0.1001\n",
      "Epoch 123/256\n",
      "209/209 [==============================] - 1s 4ms/step - loss: 2.8506 - reg_loss: 0.0861 - pdf_loss: 3.1547 - reg_mse: 0.0195 - pdf_acc: 0.1023 - val_loss: 2.8313 - val_reg_loss: 0.0815 - val_pdf_loss: 3.1338 - val_reg_mse: 0.0160 - val_pdf_acc: 0.1018\n",
      "Epoch 124/256\n",
      "209/209 [==============================] - 1s 3ms/step - loss: 2.8485 - reg_loss: 0.0861 - pdf_loss: 3.1524 - reg_mse: 0.0194 - pdf_acc: 0.1015 - val_loss: 2.8306 - val_reg_loss: 0.0817 - val_pdf_loss: 3.1331 - val_reg_mse: 0.0161 - val_pdf_acc: 0.1028\n",
      "Epoch 125/256\n",
      "209/209 [==============================] - 1s 3ms/step - loss: 2.8509 - reg_loss: 0.0864 - pdf_loss: 3.1551 - reg_mse: 0.0196 - pdf_acc: 0.1012 - val_loss: 2.8351 - val_reg_loss: 0.0820 - val_pdf_loss: 3.1379 - val_reg_mse: 0.0162 - val_pdf_acc: 0.1004\n",
      "Epoch 126/256\n",
      "209/209 [==============================] - 1s 3ms/step - loss: 2.8460 - reg_loss: 0.0860 - pdf_loss: 3.1497 - reg_mse: 0.0196 - pdf_acc: 0.1017 - val_loss: 2.8333 - val_reg_loss: 0.0815 - val_pdf_loss: 3.1360 - val_reg_mse: 0.0160 - val_pdf_acc: 0.1010\n",
      "Epoch 127/256\n",
      "209/209 [==============================] - 1s 4ms/step - loss: 2.8485 - reg_loss: 0.0860 - pdf_loss: 3.1524 - reg_mse: 0.0195 - pdf_acc: 0.1008 - val_loss: 2.8299 - val_reg_loss: 0.0816 - val_pdf_loss: 3.1323 - val_reg_mse: 0.0161 - val_pdf_acc: 0.1025\n",
      "Epoch 128/256\n",
      "209/209 [==============================] - 1s 5ms/step - loss: 2.8456 - reg_loss: 0.0859 - pdf_loss: 3.1492 - reg_mse: 0.0194 - pdf_acc: 0.0989 - val_loss: 2.8348 - val_reg_loss: 0.0822 - val_pdf_loss: 3.1376 - val_reg_mse: 0.0162 - val_pdf_acc: 0.1006\n",
      "Epoch 129/256\n",
      "209/209 [==============================] - 1s 3ms/step - loss: 2.8440 - reg_loss: 0.0857 - pdf_loss: 3.1474 - reg_mse: 0.0195 - pdf_acc: 0.1012 - val_loss: 2.8298 - val_reg_loss: 0.0815 - val_pdf_loss: 3.1321 - val_reg_mse: 0.0161 - val_pdf_acc: 0.1012\n",
      "Epoch 130/256\n",
      " 42/209 [=====>........................] - ETA: 0s - loss: 2.8447 - reg_loss: 0.0854 - pdf_loss: 3.1483 - reg_mse: 0.0179 - pdf_acc: 0.1045"
     ]
    }
   ],
   "source": [
    "history = model.fit(X_train[:,:5], {'pdf': y_train[:,:200], 'reg': y_train[:,200]}, batch_size = 128,epochs=256,validation_split = 0.2)"
   ]
  },
  {
   "cell_type": "code",
   "execution_count": null,
   "metadata": {},
   "outputs": [],
   "source": [
    "test_predictions = model.predict(X_test[:,:5])\n",
    "\n",
    "\n",
    "print(\"Testing set Mean Abs Error: {:5.4f} \".format(mean_absolute_error(y_test[:,200],test_predictions[0])))\n",
    "print(\"\\n\")\n",
    "print(\"Testing set Mean Square Error: {:5.4f} \".format(mean_squared_error(y_test[:,200],test_predictions[0])))\n",
    "print(\"\\n\")\n",
    "print(\"Testing set Root Mean Square Error: {:5.4f} \".format(np.sqrt(mean_squared_error(y_test[:,200],test_predictions[0]))))"
   ]
  },
  {
   "cell_type": "code",
   "execution_count": null,
   "metadata": {},
   "outputs": [],
   "source": [
    "zspec = y_test[:,200].flatten()\n",
    "zphot = test_predictions[0].flatten()\n",
    "pdf = test_predictions[1]\n",
    "x_plot = np.linspace(0,1.5,200)"
   ]
  },
  {
   "cell_type": "code",
   "execution_count": null,
   "metadata": {},
   "outputs": [],
   "source": [
    "plt.figure(figsize=(16, 8))\n",
    "plt.hist2d(zspec,zphot, bins= 100,density=True,cmap = \"plasma\")\n",
    "plt.colorbar()\n",
    "plt.xlabel('True Values [MPG]')\n",
    "plt.ylabel('Predictions [MPG]')\n",
    "plt.grid()\n",
    "#plt.show()\n",
    "plt.savefig(\"plots/ann_hist2d.png\")\n",
    "#plt.close()"
   ]
  },
  {
   "cell_type": "code",
   "execution_count": null,
   "metadata": {},
   "outputs": [],
   "source": [
    "plt.figure(figsize=(16, 8))\n",
    "plt.scatter(zspec, zphot, s=1, c=\"k\")\n",
    "plt.xlabel('True Values [MPG]')\n",
    "plt.ylabel('Predictions [MPG]')\n",
    "plt.axis('equal')\n",
    "plt.axis('square')\n",
    "plt.grid()\n",
    "_ = plt.plot([-100, 100], [-100, 100],color = \"red\")\n",
    "#plt.show()\n",
    "plt.savefig(\"plots/scatter_ann.png\",dpi = 300)\n",
    "#plt.close()\n"
   ]
  },
  {
   "cell_type": "code",
   "execution_count": null,
   "metadata": {},
   "outputs": [],
   "source": [
    "from scipy.stats import gaussian_kde\n",
    "plt.figure(figsize=(16,8))\n",
    "plt.title(\"Probabilty using KDE- Estimation\")\n",
    "xy = np.hstack([zspec.reshape(-1,1),zphot.reshape(-1,1)]).T\n",
    "z = gaussian_kde(xy)(xy)\n",
    "plt.scatter(zspec,zphot,c=z,s=5,cmap = \"viridis\")\n",
    "plt.xlabel(\"True Redshift\")\n",
    "plt.ylabel(\"Predicted Redshift\")\n",
    "plt.grid()\n",
    "plt.colorbar()\n",
    "plt.savefig(\"plots/scatter_probs_ann_rafael.png\",dpi =300)"
   ]
  },
  {
   "cell_type": "code",
   "execution_count": null,
   "metadata": {},
   "outputs": [],
   "source": [
    "plt.figure(figsize=(16,8))\n",
    "plt.scatter(zspec,zphot,s=5,cmap = \"viridis\")\n",
    "plt.xlabel(\"True Redshift\")\n",
    "plt.ylabel(\"Predicted Redshift\")\n",
    "plt.grid()\n",
    "plt.savefig(\"plots/scatter.ann_rafael.png\",dpi =300)"
   ]
  },
  {
   "cell_type": "code",
   "execution_count": null,
   "metadata": {},
   "outputs": [],
   "source": [
    "redshift = pd.DataFrame()\n",
    "redshift[\"z_phot\"] = zphot\n",
    "redshift[\"z_spec\"] = zspec"
   ]
  },
  {
   "cell_type": "code",
   "execution_count": null,
   "metadata": {},
   "outputs": [],
   "source": [
    "plt.figure(figsize=(16,8))\n",
    "plt.hist(redshift[(redshift[\"z_phot\"] > 1.) & (redshift[\"z_phot\"] < 1.5)][\"z_spec\"].values,label = \"1.<z<1.5\",bins = 100, color = \"b\")\n",
    "plt.hist(redshift[(redshift[\"z_phot\"] > 0.9) & (redshift[\"z_phot\"] < 1.)][\"z_spec\"].values,label = \"0.9<z<1.0\",bins = 100,color = \"r\")\n",
    "plt.hist(redshift[(redshift[\"z_phot\"] > 0.8) & (redshift[\"z_phot\"] < 0.9)][\"z_spec\"].values,label = \"0.8<z<0.9\",bins = 100,color = \"g\")\n",
    "plt.hist(redshift[(redshift[\"z_phot\"] > 0.7) & (redshift[\"z_phot\"] < 0.8)][\"z_spec\"].values,label = \"0.7<z<0.8\",bins = 100,color = \"yellow\")\n",
    "plt.hist(redshift[(redshift[\"z_phot\"] > 0.6) & (redshift[\"z_phot\"] < 0.7)][\"z_spec\"].values,label = \"0.6<z<0.7\",bins = 100,color = \"brown\")\n",
    "plt.hist(redshift[(redshift[\"z_phot\"] > 0.5) & (redshift[\"z_phot\"] < 0.6)][\"z_spec\"].values,label = \"0.5<z<0.6\",bins = 100,color = \"pink\")\n",
    "plt.hist(redshift[redshift[\"z_phot\"] < 0.5][\"z_spec\"].values,label = \"z<0.5\",bins = 100)\n",
    "plt.xlabel(\"Redshift spectoscopic\")\n",
    "plt.legend()"
   ]
  },
  {
   "cell_type": "code",
   "execution_count": null,
   "metadata": {},
   "outputs": [],
   "source": [
    "plt.figure(figsize=(16,8))\n",
    "plt.hist(redshift[redshift[\"z_phot\"] < 0.5][\"z_spec\"].values,label = \"z<0.5\",bins = 100)\n",
    "plt.hist(redshift[(redshift[\"z_phot\"] > 0.5) & (redshift[\"z_phot\"] < 0.6)][\"z_spec\"].values,label = \"0.5<z<0.6\",bins = 100,color = \"pink\" )\n",
    "plt.hist(redshift[(redshift[\"z_phot\"] > 0.6) & (redshift[\"z_phot\"] < 0.7)][\"z_spec\"].values,label = \"0.6<z<0.7\",bins = 100,color = \"brown\")\n",
    "plt.hist(redshift[(redshift[\"z_phot\"] > 0.7) & (redshift[\"z_phot\"] < 0.8)][\"z_spec\"].values,label = \"0.7<z<0.8\",bins = 100,color = \"yellow\")\n",
    "plt.hist(redshift[(redshift[\"z_phot\"] > 0.8) & (redshift[\"z_phot\"] < 0.9)][\"z_spec\"].values,label = \"0.8<z<0.9\",bins = 100,color = \"g\")\n",
    "plt.hist(redshift[(redshift[\"z_phot\"] > 0.9) & (redshift[\"z_phot\"] < 1.)][\"z_spec\"].values,label = \"0.9<z<1.0\",bins = 100,color = \"r\")\n",
    "plt.hist(redshift[(redshift[\"z_phot\"] > 1.) & (redshift[\"z_phot\"] < 1.5)][\"z_spec\"].values,label = \"1.<z<1.5\",bins = 100,color = \"b\")\n",
    "plt.xlabel(\"Redshift spectoscopic\")\n",
    "plt.legend()"
   ]
  },
  {
   "cell_type": "code",
   "execution_count": null,
   "metadata": {},
   "outputs": [],
   "source": [
    "error = (zphot - zspec)"
   ]
  },
  {
   "cell_type": "code",
   "execution_count": null,
   "metadata": {},
   "outputs": [],
   "source": [
    "redshift [\"error\"] = error "
   ]
  },
  {
   "cell_type": "code",
   "execution_count": null,
   "metadata": {},
   "outputs": [],
   "source": [
    "sigma68 = (int(len(error)*0.159),int(len(error)*(1-0.159)))\n",
    "sigma68"
   ]
  },
  {
   "cell_type": "code",
   "execution_count": null,
   "metadata": {},
   "outputs": [],
   "source": [
    "err = np.sort(error)"
   ]
  },
  {
   "cell_type": "code",
   "execution_count": null,
   "metadata": {},
   "outputs": [],
   "source": [
    "sigma68 = (int(len(err)*0.159),int(len(err)*(1-0.159)))\n",
    "\n",
    "print(\"$\\sigma_{68}$ error is \", err[sigma68[0]],err[sigma68[1]])"
   ]
  },
  {
   "cell_type": "code",
   "execution_count": null,
   "metadata": {},
   "outputs": [],
   "source": [
    "sigma68_arr = err[2273:12024]"
   ]
  },
  {
   "cell_type": "code",
   "execution_count": null,
   "metadata": {},
   "outputs": [],
   "source": [
    "x = np.array(range(0,20+1))*5\n",
    "x[0]=1\n",
    "\n",
    "ind = x*len(error)//100"
   ]
  },
  {
   "cell_type": "code",
   "execution_count": null,
   "metadata": {},
   "outputs": [],
   "source": [
    "x = np.array(range(0,20+1))*5\n",
    "x[0]=1\n",
    "\n",
    "ind = x*len(sigma68_arr)//100"
   ]
  },
  {
   "cell_type": "code",
   "execution_count": null,
   "metadata": {},
   "outputs": [],
   "source": [
    "plt.figure(figsize = (16,8))\n",
    "plt.plot(np.sort(zphot[ind-1]),sigma68_arr[ind-1],'o-')\n",
    "#plt.scatter(test.z_phot[ind-1],test.error[ind-1],s = 10, c = \"red\")\n",
    "plt.grid()\n",
    "plt.xlabel(\"Redshift Photometric\")\n",
    "plt.ylabel(\"$\\sigma_{68}$\")\n"
   ]
  },
  {
   "cell_type": "code",
   "execution_count": null,
   "metadata": {},
   "outputs": [],
   "source": [
    "bins = []\n",
    "j = 0.5\n",
    "for i in range(20):\n",
    "    j = j + 0.05\n",
    "    b = (zphot>(j-0.05)) & (zphot<j)\n",
    "    bins.append(b)"
   ]
  },
  {
   "cell_type": "code",
   "execution_count": null,
   "metadata": {},
   "outputs": [],
   "source": [
    "bins.insert(0,zphot<(0.5))"
   ]
  },
  {
   "cell_type": "code",
   "execution_count": null,
   "metadata": {},
   "outputs": [],
   "source": [
    "print(\"Object in each bins: \")\n",
    "for i in range(len(bins)):\n",
    "    print(\"bin\"+str(i)+\" :\",zphot[bins[i]].shape[0])"
   ]
  },
  {
   "cell_type": "code",
   "execution_count": null,
   "metadata": {},
   "outputs": [],
   "source": [
    "import metrics"
   ]
  },
  {
   "cell_type": "code",
   "execution_count": null,
   "metadata": {},
   "outputs": [],
   "source": [
    "results = []\n",
    "for i in range((10)):\n",
    "    aux = metrics.compute_metrics(zspec[bins[i]],zphot[bins[i]],\"ANN-rafael-bins\"+str(i))\n",
    "    aux = aux.to_frame()\n",
    "    results.append(aux)\n",
    "    del aux\n"
   ]
  },
  {
   "cell_type": "code",
   "execution_count": null,
   "metadata": {},
   "outputs": [],
   "source": [
    "df = pd.concat(results,ignore_index=False,axis = 1)"
   ]
  },
  {
   "cell_type": "code",
   "execution_count": null,
   "metadata": {},
   "outputs": [],
   "source": [
    "df"
   ]
  },
  {
   "cell_type": "code",
   "execution_count": null,
   "metadata": {},
   "outputs": [],
   "source": [
    "stack = []\n",
    "for i in range(len(bins)):\n",
    "    stack.append(pdf[bins[i],:])\n"
   ]
  },
  {
   "cell_type": "code",
   "execution_count": null,
   "metadata": {},
   "outputs": [],
   "source": [
    "plt.plot(x_plot,pdf[0,:])"
   ]
  },
  {
   "cell_type": "code",
   "execution_count": null,
   "metadata": {},
   "outputs": [],
   "source": [
    "plt.figure(figsize=(16,8))\n",
    "#plt.title(\"PDF Stacked with bins\")\n",
    "j = 0.5\n",
    "plt.plot(x_plot,np.sum(stack[0],axis = 0),label = \"z_phot <0.5\")\n",
    "for i in range(3):\n",
    "    j = j + 0.05\n",
    "    st1 = round(j-0.05,3)\n",
    "    st2 = round(j,3)\n",
    "    plt.plot(x_plot,np.sum(stack[i+1],axis = 0),label = str(st1)+\"< z_phot <\"+str(st2))\n",
    "plt.legend()\n",
    "plt.xlabel(\"Redshift Photometric\")\n",
    "plt.savefig(\"plots/pdf_stacked_phot.png\",dpi = 500)"
   ]
  },
  {
   "cell_type": "code",
   "execution_count": null,
   "metadata": {},
   "outputs": [],
   "source": [
    "bins_spec = []\n",
    "j = 0.5\n",
    "for i in range(20):\n",
    "    j = j + 0.05\n",
    "    b = (zspec>(j-0.05)) & (zspec<j)\n",
    "    bins_spec.append(b)\n",
    "bins_spec.insert(0,zspec<(0.5))\n",
    "stack_spec = []\n",
    "for i in range(len(bins_spec)):\n",
    "    stack_spec.append(pdf[bins_spec[i],:])"
   ]
  },
  {
   "cell_type": "code",
   "execution_count": null,
   "metadata": {},
   "outputs": [],
   "source": [
    "plt.figure(figsize=(16,8))\n",
    "#plt.title(\"PDF Stacked with bins\")\n",
    "plt.plot(x_plot,np.sum(stack_spec[0],axis = 0),label = \"z_spec <0.5\")\n",
    "j = 0.5\n",
    "for i in range(6,10):\n",
    "    j = j + 0.05\n",
    "    st1 = round(j-0.05,3)\n",
    "    st2 = round(j,3)\n",
    "    plt.plot(x_plot,np.sum(stack_spec[i+1],axis = 0),label = str(st1)+\"< z_spec <\"+str(st2))\n",
    "plt.legend()\n",
    "plt.xlabel(\"Redshift Spectroscopic\")\n",
    "plt.savefig(\"plots/pdf_stacked_spec.png\",dpi = 500)"
   ]
  },
  {
   "cell_type": "code",
   "execution_count": null,
   "metadata": {},
   "outputs": [],
   "source": [
    "plt.figure(figsize=(16,8))\n",
    "#plt.title(\"PDF Stacked with bins\")\n",
    "j = 0.5\n",
    "for i in range(2):\n",
    "    j = j + 0.05\n",
    "    st1 = round(j-0.05,3)\n",
    "    st2 = round(j,3)\n",
    "    plt.plot(x_plot,np.sum(stack[i+1],axis = 0),label = str(st1)+\"< z_phot <\"+str(st2), c = \"red\")\n",
    "    plt.plot(x_plot,np.sum(stack_spec[i+1],axis = 0),label = str(st1)+\"< z_spec <\"+str(st2), c = \"blue\")\n",
    "\n",
    "plt.legend()\n",
    "plt.xlabel(\"Redshift\")\n",
    "plt.savefig(\"plots/pdf_stacked_photandspec.png\",dpi = 500)"
   ]
  },
  {
   "cell_type": "code",
   "execution_count": null,
   "metadata": {},
   "outputs": [],
   "source": [
    "cdf = []\n",
    "for i in range(len(pdf)):\n",
    "    cdf.append(np.cumsum(pdf[i,:]))"
   ]
  },
  {
   "cell_type": "code",
   "execution_count": null,
   "metadata": {},
   "outputs": [],
   "source": [
    "plt.plot(x_plot,cdf[200])"
   ]
  },
  {
   "cell_type": "code",
   "execution_count": null,
   "metadata": {},
   "outputs": [],
   "source": [
    "def mc_cdf(cdf,bins):\n",
    "    rand = np.random.random()\n",
    "    ind = np.where(cdf >= rand)\n",
    "    frac = (rand-cdf[ind[0][0]-1])/(cdf[ind[0][0]]-cdf[ind[0][0]-1])\n",
    "    #print(frac)\n",
    "    zfinal = bins[ind[0][0]-1] + frac*(bins[ind[0][0]]-bins[ind[0][0]-1])\n",
    "    return zfinal,rand,cdf[ind[0][0]-1],cdf[ind[0][0]]\n"
   ]
  },
  {
   "cell_type": "code",
   "execution_count": null,
   "metadata": {},
   "outputs": [],
   "source": [
    "mc_cdf(cdf[0],x_plot)"
   ]
  },
  {
   "cell_type": "code",
   "execution_count": null,
   "metadata": {},
   "outputs": [],
   "source": [
    "mc = []\n",
    "for i in range(10000):\n",
    "    zfinal, rand, cdf1,cdf2 = mc_cdf(cdf[200],x_plot)\n",
    "    mc.append(zfinal)"
   ]
  },
  {
   "cell_type": "code",
   "execution_count": null,
   "metadata": {},
   "outputs": [],
   "source": [
    "plt.figure(figsize=(16,8))\n",
    "plt.hist(mc,bins=100,density = True);\n",
    "plt.plot(x_plot, pdf[0]*25)\n",
    "plt.savefig(\"testes.png\")"
   ]
  },
  {
   "cell_type": "markdown",
   "metadata": {},
   "source": [
    "## Inverse CDF Sampling"
   ]
  },
  {
   "cell_type": "code",
   "execution_count": null,
   "metadata": {},
   "outputs": [],
   "source": []
  },
  {
   "cell_type": "code",
   "execution_count": null,
   "metadata": {},
   "outputs": [],
   "source": []
  },
  {
   "cell_type": "code",
   "execution_count": null,
   "metadata": {},
   "outputs": [],
   "source": []
  },
  {
   "cell_type": "code",
   "execution_count": null,
   "metadata": {},
   "outputs": [],
   "source": []
  },
  {
   "cell_type": "code",
   "execution_count": null,
   "metadata": {},
   "outputs": [],
   "source": []
  },
  {
   "cell_type": "code",
   "execution_count": null,
   "metadata": {},
   "outputs": [],
   "source": []
  },
  {
   "cell_type": "code",
   "execution_count": null,
   "metadata": {},
   "outputs": [],
   "source": []
  },
  {
   "cell_type": "code",
   "execution_count": null,
   "metadata": {},
   "outputs": [],
   "source": []
  },
  {
   "cell_type": "markdown",
   "metadata": {},
   "source": [
    "## Create a csv file"
   ]
  },
  {
   "cell_type": "code",
   "execution_count": 60,
   "metadata": {},
   "outputs": [],
   "source": [
    "final_data = pd.DataFrame()\n",
    "final_data[\"z\"] = zspec \n",
    "final_data[\"ann:z\"] = zphot\n",
    "final_data[\"error\"] = error\n",
    "final_data['MAG_AUTO_G_DERED'] = X_test[:,5]\n",
    "final_data['MAG_AUTO_R_DERED'] = X_test[:,6]\n",
    "final_data['MAG_AUTO_I_DERED'] = X_test[:,7]\n",
    "final_data['MAG_AUTO_Z_DERED'] = X_test[:,8]\n",
    "final_data['MAG_AUTO_Y_DERED'] = X_test[:,9]\n"
   ]
  },
  {
   "cell_type": "code",
   "execution_count": 61,
   "metadata": {},
   "outputs": [],
   "source": [
    "for i in range(200):\n",
    "    final_data[\"ann_pdf_\"+str(i)] = pdf[:,i]"
   ]
  },
  {
   "cell_type": "code",
   "execution_count": 62,
   "metadata": {},
   "outputs": [
    {
     "data": {
      "text/html": [
       "<div>\n",
       "<style scoped>\n",
       "    .dataframe tbody tr th:only-of-type {\n",
       "        vertical-align: middle;\n",
       "    }\n",
       "\n",
       "    .dataframe tbody tr th {\n",
       "        vertical-align: top;\n",
       "    }\n",
       "\n",
       "    .dataframe thead th {\n",
       "        text-align: right;\n",
       "    }\n",
       "</style>\n",
       "<table border=\"1\" class=\"dataframe\">\n",
       "  <thead>\n",
       "    <tr style=\"text-align: right;\">\n",
       "      <th></th>\n",
       "      <th>z</th>\n",
       "      <th>ann:z</th>\n",
       "      <th>error</th>\n",
       "      <th>MAG_AUTO_G_DERED</th>\n",
       "      <th>MAG_AUTO_R_DERED</th>\n",
       "      <th>MAG_AUTO_I_DERED</th>\n",
       "      <th>MAG_AUTO_Z_DERED</th>\n",
       "      <th>MAG_AUTO_Y_DERED</th>\n",
       "      <th>ann_pdf_0</th>\n",
       "      <th>ann_pdf_1</th>\n",
       "      <th>...</th>\n",
       "      <th>ann_pdf_190</th>\n",
       "      <th>ann_pdf_191</th>\n",
       "      <th>ann_pdf_192</th>\n",
       "      <th>ann_pdf_193</th>\n",
       "      <th>ann_pdf_194</th>\n",
       "      <th>ann_pdf_195</th>\n",
       "      <th>ann_pdf_196</th>\n",
       "      <th>ann_pdf_197</th>\n",
       "      <th>ann_pdf_198</th>\n",
       "      <th>ann_pdf_199</th>\n",
       "    </tr>\n",
       "  </thead>\n",
       "  <tbody>\n",
       "    <tr>\n",
       "      <th>0</th>\n",
       "      <td>0.5478</td>\n",
       "      <td>0.524741</td>\n",
       "      <td>-0.023059</td>\n",
       "      <td>21.675369</td>\n",
       "      <td>20.476053</td>\n",
       "      <td>19.978825</td>\n",
       "      <td>19.708084</td>\n",
       "      <td>19.598150</td>\n",
       "      <td>0.002718</td>\n",
       "      <td>5.510289e-07</td>\n",
       "      <td>...</td>\n",
       "      <td>6.019784e-07</td>\n",
       "      <td>5.780822e-07</td>\n",
       "      <td>5.451996e-07</td>\n",
       "      <td>5.521141e-07</td>\n",
       "      <td>5.357053e-07</td>\n",
       "      <td>4.829860e-07</td>\n",
       "      <td>5.617796e-07</td>\n",
       "      <td>5.432709e-07</td>\n",
       "      <td>0.000080</td>\n",
       "      <td>0.000074</td>\n",
       "    </tr>\n",
       "    <tr>\n",
       "      <th>1</th>\n",
       "      <td>0.7141</td>\n",
       "      <td>0.640455</td>\n",
       "      <td>-0.073645</td>\n",
       "      <td>23.153423</td>\n",
       "      <td>21.901344</td>\n",
       "      <td>21.184584</td>\n",
       "      <td>20.886852</td>\n",
       "      <td>21.120953</td>\n",
       "      <td>0.004191</td>\n",
       "      <td>1.225430e-08</td>\n",
       "      <td>...</td>\n",
       "      <td>1.333367e-08</td>\n",
       "      <td>1.269621e-08</td>\n",
       "      <td>1.114178e-08</td>\n",
       "      <td>1.342766e-08</td>\n",
       "      <td>1.094966e-08</td>\n",
       "      <td>1.201785e-08</td>\n",
       "      <td>1.084356e-08</td>\n",
       "      <td>1.231823e-08</td>\n",
       "      <td>0.000009</td>\n",
       "      <td>0.000005</td>\n",
       "    </tr>\n",
       "    <tr>\n",
       "      <th>2</th>\n",
       "      <td>0.5526</td>\n",
       "      <td>0.626525</td>\n",
       "      <td>0.073924</td>\n",
       "      <td>23.883087</td>\n",
       "      <td>22.240238</td>\n",
       "      <td>21.474537</td>\n",
       "      <td>21.000954</td>\n",
       "      <td>20.886305</td>\n",
       "      <td>0.003949</td>\n",
       "      <td>1.943321e-08</td>\n",
       "      <td>...</td>\n",
       "      <td>2.015103e-08</td>\n",
       "      <td>2.185768e-08</td>\n",
       "      <td>1.843078e-08</td>\n",
       "      <td>1.948688e-08</td>\n",
       "      <td>1.731282e-08</td>\n",
       "      <td>1.704958e-08</td>\n",
       "      <td>1.563588e-08</td>\n",
       "      <td>2.012376e-08</td>\n",
       "      <td>0.000016</td>\n",
       "      <td>0.000008</td>\n",
       "    </tr>\n",
       "    <tr>\n",
       "      <th>3</th>\n",
       "      <td>0.5957</td>\n",
       "      <td>0.648952</td>\n",
       "      <td>0.053252</td>\n",
       "      <td>21.567278</td>\n",
       "      <td>20.640121</td>\n",
       "      <td>20.107042</td>\n",
       "      <td>19.871243</td>\n",
       "      <td>19.577147</td>\n",
       "      <td>0.008019</td>\n",
       "      <td>3.199855e-09</td>\n",
       "      <td>...</td>\n",
       "      <td>2.707479e-09</td>\n",
       "      <td>2.942508e-09</td>\n",
       "      <td>2.458061e-09</td>\n",
       "      <td>2.981802e-09</td>\n",
       "      <td>2.182407e-09</td>\n",
       "      <td>2.371670e-09</td>\n",
       "      <td>2.415843e-09</td>\n",
       "      <td>2.781435e-09</td>\n",
       "      <td>0.000006</td>\n",
       "      <td>0.000004</td>\n",
       "    </tr>\n",
       "    <tr>\n",
       "      <th>4</th>\n",
       "      <td>0.5442</td>\n",
       "      <td>0.552012</td>\n",
       "      <td>0.007812</td>\n",
       "      <td>22.540119</td>\n",
       "      <td>21.466885</td>\n",
       "      <td>21.020325</td>\n",
       "      <td>20.894415</td>\n",
       "      <td>21.328066</td>\n",
       "      <td>0.002816</td>\n",
       "      <td>8.685105e-08</td>\n",
       "      <td>...</td>\n",
       "      <td>7.399174e-08</td>\n",
       "      <td>7.981043e-08</td>\n",
       "      <td>7.066094e-08</td>\n",
       "      <td>7.414998e-08</td>\n",
       "      <td>7.122791e-08</td>\n",
       "      <td>6.471276e-08</td>\n",
       "      <td>6.458262e-08</td>\n",
       "      <td>8.075245e-08</td>\n",
       "      <td>0.000029</td>\n",
       "      <td>0.000013</td>\n",
       "    </tr>\n",
       "    <tr>\n",
       "      <th>...</th>\n",
       "      <td>...</td>\n",
       "      <td>...</td>\n",
       "      <td>...</td>\n",
       "      <td>...</td>\n",
       "      <td>...</td>\n",
       "      <td>...</td>\n",
       "      <td>...</td>\n",
       "      <td>...</td>\n",
       "      <td>...</td>\n",
       "      <td>...</td>\n",
       "      <td>...</td>\n",
       "      <td>...</td>\n",
       "      <td>...</td>\n",
       "      <td>...</td>\n",
       "      <td>...</td>\n",
       "      <td>...</td>\n",
       "      <td>...</td>\n",
       "      <td>...</td>\n",
       "      <td>...</td>\n",
       "      <td>...</td>\n",
       "      <td>...</td>\n",
       "    </tr>\n",
       "    <tr>\n",
       "      <th>14293</th>\n",
       "      <td>0.8753</td>\n",
       "      <td>0.876265</td>\n",
       "      <td>0.000965</td>\n",
       "      <td>23.523746</td>\n",
       "      <td>22.821526</td>\n",
       "      <td>22.208662</td>\n",
       "      <td>21.704287</td>\n",
       "      <td>21.453571</td>\n",
       "      <td>0.004015</td>\n",
       "      <td>3.191189e-08</td>\n",
       "      <td>...</td>\n",
       "      <td>2.606854e-08</td>\n",
       "      <td>3.085297e-08</td>\n",
       "      <td>2.714398e-08</td>\n",
       "      <td>2.970711e-08</td>\n",
       "      <td>2.450992e-08</td>\n",
       "      <td>2.498666e-08</td>\n",
       "      <td>2.467305e-08</td>\n",
       "      <td>2.902620e-08</td>\n",
       "      <td>0.000025</td>\n",
       "      <td>0.000019</td>\n",
       "    </tr>\n",
       "    <tr>\n",
       "      <th>14294</th>\n",
       "      <td>0.9257</td>\n",
       "      <td>0.744947</td>\n",
       "      <td>-0.180753</td>\n",
       "      <td>23.297079</td>\n",
       "      <td>22.025640</td>\n",
       "      <td>20.968119</td>\n",
       "      <td>20.592426</td>\n",
       "      <td>20.355036</td>\n",
       "      <td>0.005563</td>\n",
       "      <td>3.574092e-08</td>\n",
       "      <td>...</td>\n",
       "      <td>3.395840e-08</td>\n",
       "      <td>4.347009e-08</td>\n",
       "      <td>3.460714e-08</td>\n",
       "      <td>3.110791e-08</td>\n",
       "      <td>2.583463e-08</td>\n",
       "      <td>3.071577e-08</td>\n",
       "      <td>2.641444e-08</td>\n",
       "      <td>3.717474e-08</td>\n",
       "      <td>0.000007</td>\n",
       "      <td>0.000003</td>\n",
       "    </tr>\n",
       "    <tr>\n",
       "      <th>14295</th>\n",
       "      <td>0.8798</td>\n",
       "      <td>0.867500</td>\n",
       "      <td>-0.012300</td>\n",
       "      <td>25.811621</td>\n",
       "      <td>23.499617</td>\n",
       "      <td>22.159006</td>\n",
       "      <td>21.489374</td>\n",
       "      <td>22.258078</td>\n",
       "      <td>0.003089</td>\n",
       "      <td>6.031582e-07</td>\n",
       "      <td>...</td>\n",
       "      <td>5.463859e-07</td>\n",
       "      <td>6.136248e-07</td>\n",
       "      <td>5.702407e-07</td>\n",
       "      <td>5.464750e-07</td>\n",
       "      <td>5.111932e-07</td>\n",
       "      <td>5.352570e-07</td>\n",
       "      <td>5.367005e-07</td>\n",
       "      <td>5.811989e-07</td>\n",
       "      <td>0.000019</td>\n",
       "      <td>0.000010</td>\n",
       "    </tr>\n",
       "    <tr>\n",
       "      <th>14296</th>\n",
       "      <td>0.5149</td>\n",
       "      <td>0.548138</td>\n",
       "      <td>0.033238</td>\n",
       "      <td>24.324493</td>\n",
       "      <td>22.361763</td>\n",
       "      <td>21.713682</td>\n",
       "      <td>21.323183</td>\n",
       "      <td>21.799175</td>\n",
       "      <td>0.003293</td>\n",
       "      <td>3.243919e-07</td>\n",
       "      <td>...</td>\n",
       "      <td>2.834747e-07</td>\n",
       "      <td>3.117404e-07</td>\n",
       "      <td>2.790707e-07</td>\n",
       "      <td>2.749368e-07</td>\n",
       "      <td>2.759039e-07</td>\n",
       "      <td>2.584774e-07</td>\n",
       "      <td>2.439139e-07</td>\n",
       "      <td>3.142552e-07</td>\n",
       "      <td>0.000054</td>\n",
       "      <td>0.000024</td>\n",
       "    </tr>\n",
       "    <tr>\n",
       "      <th>14297</th>\n",
       "      <td>0.7366</td>\n",
       "      <td>0.748556</td>\n",
       "      <td>0.011956</td>\n",
       "      <td>22.178406</td>\n",
       "      <td>21.315969</td>\n",
       "      <td>20.503817</td>\n",
       "      <td>20.192581</td>\n",
       "      <td>20.087366</td>\n",
       "      <td>0.006913</td>\n",
       "      <td>1.898467e-08</td>\n",
       "      <td>...</td>\n",
       "      <td>1.559015e-08</td>\n",
       "      <td>2.318025e-08</td>\n",
       "      <td>1.766491e-08</td>\n",
       "      <td>1.466510e-08</td>\n",
       "      <td>1.208123e-08</td>\n",
       "      <td>1.375791e-08</td>\n",
       "      <td>1.234659e-08</td>\n",
       "      <td>1.885577e-08</td>\n",
       "      <td>0.000005</td>\n",
       "      <td>0.000002</td>\n",
       "    </tr>\n",
       "  </tbody>\n",
       "</table>\n",
       "<p>14298 rows × 208 columns</p>\n",
       "</div>"
      ],
      "text/plain": [
       "            z     ann:z     error  MAG_AUTO_G_DERED  MAG_AUTO_R_DERED  \\\n",
       "0      0.5478  0.524741 -0.023059         21.675369         20.476053   \n",
       "1      0.7141  0.640455 -0.073645         23.153423         21.901344   \n",
       "2      0.5526  0.626525  0.073924         23.883087         22.240238   \n",
       "3      0.5957  0.648952  0.053252         21.567278         20.640121   \n",
       "4      0.5442  0.552012  0.007812         22.540119         21.466885   \n",
       "...       ...       ...       ...               ...               ...   \n",
       "14293  0.8753  0.876265  0.000965         23.523746         22.821526   \n",
       "14294  0.9257  0.744947 -0.180753         23.297079         22.025640   \n",
       "14295  0.8798  0.867500 -0.012300         25.811621         23.499617   \n",
       "14296  0.5149  0.548138  0.033238         24.324493         22.361763   \n",
       "14297  0.7366  0.748556  0.011956         22.178406         21.315969   \n",
       "\n",
       "       MAG_AUTO_I_DERED  MAG_AUTO_Z_DERED  MAG_AUTO_Y_DERED  ann_pdf_0  \\\n",
       "0             19.978825         19.708084         19.598150   0.002718   \n",
       "1             21.184584         20.886852         21.120953   0.004191   \n",
       "2             21.474537         21.000954         20.886305   0.003949   \n",
       "3             20.107042         19.871243         19.577147   0.008019   \n",
       "4             21.020325         20.894415         21.328066   0.002816   \n",
       "...                 ...               ...               ...        ...   \n",
       "14293         22.208662         21.704287         21.453571   0.004015   \n",
       "14294         20.968119         20.592426         20.355036   0.005563   \n",
       "14295         22.159006         21.489374         22.258078   0.003089   \n",
       "14296         21.713682         21.323183         21.799175   0.003293   \n",
       "14297         20.503817         20.192581         20.087366   0.006913   \n",
       "\n",
       "          ann_pdf_1  ...   ann_pdf_190   ann_pdf_191   ann_pdf_192  \\\n",
       "0      5.510289e-07  ...  6.019784e-07  5.780822e-07  5.451996e-07   \n",
       "1      1.225430e-08  ...  1.333367e-08  1.269621e-08  1.114178e-08   \n",
       "2      1.943321e-08  ...  2.015103e-08  2.185768e-08  1.843078e-08   \n",
       "3      3.199855e-09  ...  2.707479e-09  2.942508e-09  2.458061e-09   \n",
       "4      8.685105e-08  ...  7.399174e-08  7.981043e-08  7.066094e-08   \n",
       "...             ...  ...           ...           ...           ...   \n",
       "14293  3.191189e-08  ...  2.606854e-08  3.085297e-08  2.714398e-08   \n",
       "14294  3.574092e-08  ...  3.395840e-08  4.347009e-08  3.460714e-08   \n",
       "14295  6.031582e-07  ...  5.463859e-07  6.136248e-07  5.702407e-07   \n",
       "14296  3.243919e-07  ...  2.834747e-07  3.117404e-07  2.790707e-07   \n",
       "14297  1.898467e-08  ...  1.559015e-08  2.318025e-08  1.766491e-08   \n",
       "\n",
       "        ann_pdf_193   ann_pdf_194   ann_pdf_195   ann_pdf_196   ann_pdf_197  \\\n",
       "0      5.521141e-07  5.357053e-07  4.829860e-07  5.617796e-07  5.432709e-07   \n",
       "1      1.342766e-08  1.094966e-08  1.201785e-08  1.084356e-08  1.231823e-08   \n",
       "2      1.948688e-08  1.731282e-08  1.704958e-08  1.563588e-08  2.012376e-08   \n",
       "3      2.981802e-09  2.182407e-09  2.371670e-09  2.415843e-09  2.781435e-09   \n",
       "4      7.414998e-08  7.122791e-08  6.471276e-08  6.458262e-08  8.075245e-08   \n",
       "...             ...           ...           ...           ...           ...   \n",
       "14293  2.970711e-08  2.450992e-08  2.498666e-08  2.467305e-08  2.902620e-08   \n",
       "14294  3.110791e-08  2.583463e-08  3.071577e-08  2.641444e-08  3.717474e-08   \n",
       "14295  5.464750e-07  5.111932e-07  5.352570e-07  5.367005e-07  5.811989e-07   \n",
       "14296  2.749368e-07  2.759039e-07  2.584774e-07  2.439139e-07  3.142552e-07   \n",
       "14297  1.466510e-08  1.208123e-08  1.375791e-08  1.234659e-08  1.885577e-08   \n",
       "\n",
       "       ann_pdf_198  ann_pdf_199  \n",
       "0         0.000080     0.000074  \n",
       "1         0.000009     0.000005  \n",
       "2         0.000016     0.000008  \n",
       "3         0.000006     0.000004  \n",
       "4         0.000029     0.000013  \n",
       "...            ...          ...  \n",
       "14293     0.000025     0.000019  \n",
       "14294     0.000007     0.000003  \n",
       "14295     0.000019     0.000010  \n",
       "14296     0.000054     0.000024  \n",
       "14297     0.000005     0.000002  \n",
       "\n",
       "[14298 rows x 208 columns]"
      ]
     },
     "execution_count": 62,
     "metadata": {},
     "output_type": "execute_result"
    }
   ],
   "source": [
    "final_data"
   ]
  },
  {
   "cell_type": "code",
   "execution_count": 63,
   "metadata": {},
   "outputs": [],
   "source": [
    "#final_data.to_csv(\"ann-rafael-results.csv\",index = False)"
   ]
  }
 ],
 "metadata": {
  "kernelspec": {
   "display_name": "Python 3",
   "language": "python",
   "name": "python3"
  },
  "language_info": {
   "codemirror_mode": {
    "name": "ipython",
    "version": 3
   },
   "file_extension": ".py",
   "mimetype": "text/x-python",
   "name": "python",
   "nbconvert_exporter": "python",
   "pygments_lexer": "ipython3",
   "version": "3.8.5"
  }
 },
 "nbformat": 4,
 "nbformat_minor": 4
}
