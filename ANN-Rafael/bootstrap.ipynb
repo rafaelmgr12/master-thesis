{
 "cells": [
  {
   "cell_type": "code",
   "execution_count": 1,
   "metadata": {},
   "outputs": [],
   "source": [
    "import numpy as np\n",
    "import pandas as pd \n",
    "import matplotlib.pyplot as plt\n",
    "import seaborn as sns\n",
    "import os,sys"
   ]
  },
  {
   "cell_type": "code",
   "execution_count": 3,
   "metadata": {},
   "outputs": [],
   "source": [
    "path1 = \"/home/rafael/Projetos/master-thesis/ANN-Rafael/data\"\n",
    "filename1 =  os.listdir(path1)"
   ]
  },
  {
   "cell_type": "code",
   "execution_count": 4,
   "metadata": {},
   "outputs": [],
   "source": [
    "l1 = []\n",
    "for i in range(len(filename1)): # if breaks, its the RAM so read less data.\n",
    "    path_dir = os.path.join(path1,filename1[i])\n",
    "    df = pd.read_csv(path_dir)\n",
    "    l1.append(df)\n",
    "data = pd.concat(l1, axis=0, ignore_index=True)\n",
    "del df,l1"
   ]
  },
  {
   "cell_type": "code",
   "execution_count": 5,
   "metadata": {},
   "outputs": [
    {
     "data": {
      "text/html": [
       "<div>\n",
       "<style scoped>\n",
       "    .dataframe tbody tr th:only-of-type {\n",
       "        vertical-align: middle;\n",
       "    }\n",
       "\n",
       "    .dataframe tbody tr th {\n",
       "        vertical-align: top;\n",
       "    }\n",
       "\n",
       "    .dataframe thead th {\n",
       "        text-align: right;\n",
       "    }\n",
       "</style>\n",
       "<table border=\"1\" class=\"dataframe\">\n",
       "  <thead>\n",
       "    <tr style=\"text-align: right;\">\n",
       "      <th></th>\n",
       "      <th>z_phot</th>\n",
       "      <th>z_spec</th>\n",
       "    </tr>\n",
       "  </thead>\n",
       "  <tbody>\n",
       "    <tr>\n",
       "      <th>0</th>\n",
       "      <td>0.697355</td>\n",
       "      <td>0.6484</td>\n",
       "    </tr>\n",
       "    <tr>\n",
       "      <th>1</th>\n",
       "      <td>0.625229</td>\n",
       "      <td>0.7392</td>\n",
       "    </tr>\n",
       "    <tr>\n",
       "      <th>2</th>\n",
       "      <td>0.795276</td>\n",
       "      <td>0.8651</td>\n",
       "    </tr>\n",
       "    <tr>\n",
       "      <th>3</th>\n",
       "      <td>0.797720</td>\n",
       "      <td>0.5534</td>\n",
       "    </tr>\n",
       "    <tr>\n",
       "      <th>4</th>\n",
       "      <td>0.993761</td>\n",
       "      <td>1.2925</td>\n",
       "    </tr>\n",
       "    <tr>\n",
       "      <th>...</th>\n",
       "      <td>...</td>\n",
       "      <td>...</td>\n",
       "    </tr>\n",
       "    <tr>\n",
       "      <th>1429795</th>\n",
       "      <td>0.923796</td>\n",
       "      <td>0.8285</td>\n",
       "    </tr>\n",
       "    <tr>\n",
       "      <th>1429796</th>\n",
       "      <td>0.843517</td>\n",
       "      <td>0.8211</td>\n",
       "    </tr>\n",
       "    <tr>\n",
       "      <th>1429797</th>\n",
       "      <td>0.698816</td>\n",
       "      <td>0.7034</td>\n",
       "    </tr>\n",
       "    <tr>\n",
       "      <th>1429798</th>\n",
       "      <td>0.815242</td>\n",
       "      <td>0.7793</td>\n",
       "    </tr>\n",
       "    <tr>\n",
       "      <th>1429799</th>\n",
       "      <td>0.460337</td>\n",
       "      <td>0.4400</td>\n",
       "    </tr>\n",
       "  </tbody>\n",
       "</table>\n",
       "<p>1429800 rows × 2 columns</p>\n",
       "</div>"
      ],
      "text/plain": [
       "           z_phot  z_spec\n",
       "0        0.697355  0.6484\n",
       "1        0.625229  0.7392\n",
       "2        0.795276  0.8651\n",
       "3        0.797720  0.5534\n",
       "4        0.993761  1.2925\n",
       "...           ...     ...\n",
       "1429795  0.923796  0.8285\n",
       "1429796  0.843517  0.8211\n",
       "1429797  0.698816  0.7034\n",
       "1429798  0.815242  0.7793\n",
       "1429799  0.460337  0.4400\n",
       "\n",
       "[1429800 rows x 2 columns]"
      ]
     },
     "execution_count": 5,
     "metadata": {},
     "output_type": "execute_result"
    }
   ],
   "source": [
    "data"
   ]
  },
  {
   "cell_type": "code",
   "execution_count": 6,
   "metadata": {},
   "outputs": [],
   "source": [
    "data.dropna(inplace= True)"
   ]
  },
  {
   "cell_type": "code",
   "execution_count": 7,
   "metadata": {},
   "outputs": [
    {
     "data": {
      "text/html": [
       "<div>\n",
       "<style scoped>\n",
       "    .dataframe tbody tr th:only-of-type {\n",
       "        vertical-align: middle;\n",
       "    }\n",
       "\n",
       "    .dataframe tbody tr th {\n",
       "        vertical-align: top;\n",
       "    }\n",
       "\n",
       "    .dataframe thead th {\n",
       "        text-align: right;\n",
       "    }\n",
       "</style>\n",
       "<table border=\"1\" class=\"dataframe\">\n",
       "  <thead>\n",
       "    <tr style=\"text-align: right;\">\n",
       "      <th></th>\n",
       "      <th>z_phot</th>\n",
       "      <th>z_spec</th>\n",
       "    </tr>\n",
       "  </thead>\n",
       "  <tbody>\n",
       "    <tr>\n",
       "      <th>0</th>\n",
       "      <td>0.697355</td>\n",
       "      <td>0.6484</td>\n",
       "    </tr>\n",
       "    <tr>\n",
       "      <th>1</th>\n",
       "      <td>0.625229</td>\n",
       "      <td>0.7392</td>\n",
       "    </tr>\n",
       "    <tr>\n",
       "      <th>2</th>\n",
       "      <td>0.795276</td>\n",
       "      <td>0.8651</td>\n",
       "    </tr>\n",
       "    <tr>\n",
       "      <th>3</th>\n",
       "      <td>0.797720</td>\n",
       "      <td>0.5534</td>\n",
       "    </tr>\n",
       "    <tr>\n",
       "      <th>4</th>\n",
       "      <td>0.993761</td>\n",
       "      <td>1.2925</td>\n",
       "    </tr>\n",
       "    <tr>\n",
       "      <th>...</th>\n",
       "      <td>...</td>\n",
       "      <td>...</td>\n",
       "    </tr>\n",
       "    <tr>\n",
       "      <th>1429795</th>\n",
       "      <td>0.923796</td>\n",
       "      <td>0.8285</td>\n",
       "    </tr>\n",
       "    <tr>\n",
       "      <th>1429796</th>\n",
       "      <td>0.843517</td>\n",
       "      <td>0.8211</td>\n",
       "    </tr>\n",
       "    <tr>\n",
       "      <th>1429797</th>\n",
       "      <td>0.698816</td>\n",
       "      <td>0.7034</td>\n",
       "    </tr>\n",
       "    <tr>\n",
       "      <th>1429798</th>\n",
       "      <td>0.815242</td>\n",
       "      <td>0.7793</td>\n",
       "    </tr>\n",
       "    <tr>\n",
       "      <th>1429799</th>\n",
       "      <td>0.460337</td>\n",
       "      <td>0.4400</td>\n",
       "    </tr>\n",
       "  </tbody>\n",
       "</table>\n",
       "<p>1429800 rows × 2 columns</p>\n",
       "</div>"
      ],
      "text/plain": [
       "           z_phot  z_spec\n",
       "0        0.697355  0.6484\n",
       "1        0.625229  0.7392\n",
       "2        0.795276  0.8651\n",
       "3        0.797720  0.5534\n",
       "4        0.993761  1.2925\n",
       "...           ...     ...\n",
       "1429795  0.923796  0.8285\n",
       "1429796  0.843517  0.8211\n",
       "1429797  0.698816  0.7034\n",
       "1429798  0.815242  0.7793\n",
       "1429799  0.460337  0.4400\n",
       "\n",
       "[1429800 rows x 2 columns]"
      ]
     },
     "execution_count": 7,
     "metadata": {},
     "output_type": "execute_result"
    }
   ],
   "source": [
    "data"
   ]
  },
  {
   "cell_type": "code",
   "execution_count": 8,
   "metadata": {},
   "outputs": [],
   "source": [
    "z_phot = data[\"z_phot\"].values\n",
    "z_spec = data[\"z_spec\"].values"
   ]
  },
  {
   "cell_type": "code",
   "execution_count": 9,
   "metadata": {},
   "outputs": [
    {
     "name": "stdout",
     "output_type": "stream",
     "text": [
      "The Mean Square Error is:  0.028455619149806974\n"
     ]
    }
   ],
   "source": [
    "summation = 0  #variable to store the summation of differences\n",
    "n = len(data) #finding total number of items in list\n",
    "for i in range (0,n):  #looping through each element of the list\n",
    "    difference = z_phot[i] - z_spec[i]  #finding the difference between observed and predicted value\n",
    "    squared_difference = difference**2  #taking square of the differene \n",
    "    summation = summation + squared_difference  #taking a sum of all the differences\n",
    "MSE = summation/n  #dividing summation by total values to obtain average\n",
    "print (\"The Mean Square Error is: \" , MSE)"
   ]
  },
  {
   "cell_type": "code",
   "execution_count": 10,
   "metadata": {},
   "outputs": [
    {
     "data": {
      "text/plain": [
       "0.16868793421524544"
      ]
     },
     "execution_count": 10,
     "metadata": {},
     "output_type": "execute_result"
    }
   ],
   "source": [
    "np.sqrt(MSE)"
   ]
  }
 ],
 "metadata": {
  "kernelspec": {
   "display_name": "Python 3",
   "language": "python",
   "name": "python3"
  },
  "language_info": {
   "codemirror_mode": {
    "name": "ipython",
    "version": 3
   },
   "file_extension": ".py",
   "mimetype": "text/x-python",
   "name": "python",
   "nbconvert_exporter": "python",
   "pygments_lexer": "ipython3",
   "version": "3.8.5"
  }
 },
 "nbformat": 4,
 "nbformat_minor": 4
}
